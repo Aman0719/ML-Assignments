{
 "cells": [
  {
   "cell_type": "markdown",
   "id": "526ef2c9-a0b2-41d9-bf22-4e0a1ac2b31c",
   "metadata": {},
   "source": [
    "#### Q1. What is Bayes' theorem?"
   ]
  },
  {
   "cell_type": "code",
   "execution_count": null,
   "id": "f3e9a33e-0520-42bc-8adc-94110fa5d52f",
   "metadata": {},
   "outputs": [],
   "source": [
    "Ans-\n",
    "\n",
    "Bayes' theorem is a mathematical formula used in probability theory and statistics to calculate the probability of an event based on prior knowledge or information.\n",
    "It is named after the English statistician, Thomas Bayes.\n",
    "\n",
    "The theorem provides a way to update the probability of an event as new evidence or information becomes available.\n",
    "It states that the probability of an event A occurring given that event B has occurred is equal to the probability of event B occurring given that event A has occurred multiplied by the probability of event A occurring,\n",
    "divided by the probability of event B occurring.\n",
    "\n",
    "In mathematical notation, Bayes' theorem can be written as:\n",
    "\n",
    "P(A | B) = P(B | A) * P(A) / P(B)\n",
    "\n",
    "where:\n",
    "P(A | B) is the probability of event A given that event B has occurred.\n",
    "P(B | A) is the probability of event B given that event A has occurred.\n",
    "P(A) is the prior probability of event A occurring.\n",
    "P(B) is the prior probability of event B occurring.\n",
    "\n",
    "Bayes' theorem is widely used in fields such as machine learning, artificial intelligence, and decision analysis to make predictions or decisions based on available data and prior knowledge."
   ]
  },
  {
   "cell_type": "markdown",
   "id": "d33c22f7-5f6a-4d5c-8a16-5f2f460da443",
   "metadata": {},
   "source": [
    "#### Q2. What is the formula for Bayes' theorem?"
   ]
  },
  {
   "cell_type": "code",
   "execution_count": null,
   "id": "ed0f4919-0fac-43a3-86a9-cc0cd7fd2343",
   "metadata": {},
   "outputs": [],
   "source": [
    "Ans-\n",
    "\n",
    "The formula for Bayes' theorem is:\n",
    "\n",
    "P(A | B) = P(B | A) * P(A) / P(B)\n",
    "\n",
    "where:\n",
    "\n",
    "P(A | B) is the probability of event A given that event B has occurred.\n",
    "P(B | A) is the probability of event B given that event A has occurred.\n",
    "P(A) is the prior probability of event A occurring.\n",
    "P(B) is the prior probability of event B occurring.\n",
    "\n",
    "This formula is used to update the probability of event A given new information or evidence provided by event B. \n",
    "It allows us to calculate the probability of event A occurring, given that we know the probability of event B occurring and how likely event A is to occur in general (the prior probability of A). \n",
    "The likelihood of event B given event A (P(B|A)) is also required to calculate the probability of event A given event B."
   ]
  },
  {
   "cell_type": "markdown",
   "id": "6f98fb7f-ef58-4368-a041-6ef437103b4a",
   "metadata": {},
   "source": [
    "#### Q3. How is Bayes' theorem used in practice?"
   ]
  },
  {
   "cell_type": "code",
   "execution_count": null,
   "id": "34f256b6-c2de-45ec-ad9c-7a67f8323ff0",
   "metadata": {},
   "outputs": [],
   "source": [
    "Ans-\n",
    "\n",
    "Bayes' theorem has a wide range of practical applications in various fields such as science, engineering, medicine, finance, and more.\n",
    "Here are a few examples:\n",
    "\n",
    "1.Medical diagnosis: \n",
    "Bayes' theorem is used in medical diagnosis to calculate the probability of a disease given a set of symptoms. \n",
    "Doctors use the patient's symptoms (event B) to calculate the probability of a particular disease (event A) by using the prior probability of the disease and the likelihood of the symptoms given the disease.\n",
    "\n",
    "2.Spam filtering: \n",
    "Bayes' theorem is used in email spam filtering to classify incoming emails as spam or non-spam. \n",
    "The algorithm uses the content of the email (event B) to calculate the probability that it is spam (event A) based on the prior probability of spam and the likelihood of certain words or phrases occurring in spam emails.\n",
    "\n",
    "3.Stock market analysis:\n",
    "Bayes' theorem is used in finance to make predictions about the future performance of a stock or a portfolio.\n",
    "Analysts use the prior probability of a stock's performance, historical data, and new information about the company to calculate the probability of future price movements (event A) given new information (event B).\n",
    "\n",
    "4.Quality control: \n",
    "Bayes' theorem is used in manufacturing to test the quality of products. \n",
    "The prior probability of a product being defective is used along with the results of quality control tests (event B) to calculate the probability of a product being defective (event A).\n",
    "\n",
    "5.Machine learning:\n",
    "Bayes' theorem is used in machine learning algorithms such as Naive Bayes to classify data. \n",
    "The algorithm uses prior probabilities and likelihoods to classify new data based on its features.\n",
    "\n",
    "In summary, Bayes' theorem is a powerful tool used in various applications to calculate the probability of an event given new information or evidence.\n",
    "It allows us to make predictions and decisions based on available data and prior knowledge."
   ]
  },
  {
   "cell_type": "markdown",
   "id": "51b63a79-a75f-481b-a169-7373e9ac4b66",
   "metadata": {},
   "source": [
    "#### Q4. What is the relationship between Bayes' theorem and conditional probability?"
   ]
  },
  {
   "cell_type": "code",
   "execution_count": null,
   "id": "4f895e4d-4f96-4e02-8aad-8ec60975ff11",
   "metadata": {},
   "outputs": [],
   "source": [
    "Ans-\n",
    "\n",
    "Bayes' theorem and conditional probability are closely related concepts in probability theory.\n",
    "In fact, Bayes' theorem is derived from conditional probability.\n",
    "\n",
    "Conditional probability is the probability of an event A occurring given that another event B has occurred.\n",
    "It is calculated as follows:\n",
    "\n",
    "P(A | B) = P(A and B) / P(B)\n",
    "\n",
    "where P(A and B) is the probability of events A and B occurring together, and P(B) is the probability of event B occurring.\n",
    "\n",
    "Bayes' theorem is a way to update our prior beliefs about the probability of an event based on new information or evidence. \n",
    "It uses conditional probability to do so. Bayes' theorem states that the probability of an event A given that event B has occurred is proportional to the product of the probability of event B given that event A has occurred and the prior probability of event A.\n",
    "It can be written as follows:\n",
    "\n",
    "P(A | B) = P(B | A) * P(A) / P(B)\n",
    "\n",
    "where P(B | A) is the probability of event B given that event A has occurred, and P(A) is the prior probability of event A.\n",
    "\n",
    "In other words, Bayes' theorem uses conditional probability (P(B | A)) to calculate the probability of event A given new information (P(A | B)). \n",
    "Bayes' theorem allows us to update our beliefs about the probability of an event as new information becomes available."
   ]
  },
  {
   "cell_type": "markdown",
   "id": "9feb861e-b330-4dbd-928d-fbd594594513",
   "metadata": {},
   "source": [
    "#### Q5. How do you choose which type of Naive Bayes classifier to use for any given problem?"
   ]
  },
  {
   "cell_type": "code",
   "execution_count": null,
   "id": "85e6665e-12d4-4e5e-9437-651ba76a331a",
   "metadata": {},
   "outputs": [],
   "source": [
    "Ans-\n",
    "\n",
    "There are three main types of Naive Bayes classifiers: Gaussian Naive Bayes, Multinomial Naive Bayes, and Bernoulli Naive Bayes. \n",
    "The choice of which type of Naive Bayes classifier to use depends on the nature of the problem and the characteristics of the data.\n",
    "\n",
    "Here are some factors to consider when choosing which type of Naive Bayes classifier to use:\n",
    "\n",
    "1.Data type: \n",
    "If the data is continuous and normally distributed, Gaussian Naive Bayes is the best option.\n",
    "If the data is discrete and countable, Multinomial Naive Bayes is appropriate.\n",
    "If the data is binary or boolean, Bernoulli Naive Bayes is suitable.\n",
    "\n",
    "2.Number of features:\n",
    "If the number of features is large, Multinomial or Bernoulli Naive Bayes may be more appropriate, since they are designed for high-dimensional data. \n",
    "Gaussian Naive Bayes can also be used with high-dimensional data, but it may suffer from the curse of dimensionality.\n",
    "\n",
    "3.Independence assumption: \n",
    "The Naive Bayes classifier assumes that the features are independent of each other, given the class. \n",
    "This assumption may not hold true in all cases. If the features are highly correlated, Gaussian Naive Bayes may not be the best option.\n",
    "\n",
    "4.Size of the training data: \n",
    "Multinomial and Bernoulli Naive Bayes are more robust to small training datasets than Gaussian Naive Bayes, which requires a large number of training examples to estimate the parameters of the normal distribution.\n",
    "\n",
    "5.Prior knowledge:\n",
    "If prior knowledge about the distribution of the data is available, it can help in choosing the appropriate type of Naive Bayes classifier. \n",
    "For example, if it is known that the data follows a certain distribution, such as a Poisson distribution, a specialized Naive Bayes classifier may be used.\n",
    "\n",
    "In summary, the choice of which type of Naive Bayes classifier to use depends on the nature of the problem and the characteristics of the data.\n",
    "It is important to consider factors such as data type, number of features, independence assumption, size of the training data, and prior knowledge to choose the most appropriate Naive Bayes classifier for a given problem."
   ]
  },
  {
   "cell_type": "markdown",
   "id": "62448648-5d01-404b-9a15-5f49003badb3",
   "metadata": {},
   "source": [
    "Q6. Assignment:\n",
    "You have a dataset with two features, X1 and X2, and two possible classes, A and B. You want to use Naive\n",
    "Bayes to classify a new instance with features X1 = 3 and X2 = 4. The following table shows the frequency of\n",
    "each feature value for each class:\n",
    "Class X1=1 X1=2 X1=3 X2=1 X2=2 X2=3 X2=4\n",
    "A 3 3 4 4 3 3 3\n",
    "B 2 2 1 2 2 2 3\n",
    "Assuming equal prior probabilities for each class, which class would Naive Bayes predict the new instance\n",
    "to belong to?"
   ]
  },
  {
   "cell_type": "code",
   "execution_count": null,
   "id": "9eb919cd-9506-4e8f-96c5-190a52199cb6",
   "metadata": {},
   "outputs": [],
   "source": [
    "Ans-\n",
    "\n",
    "To use Naive Bayes to classify the new instance with X1=3 and X2=4, we need to calculate the conditional probabilities for each class given the values of X1 and X2.\n",
    "Since we are assuming equal prior probabilities for each class, we do not need to calculate the prior probabilities. \n",
    "Instead, we can use the following formula for the posterior probabilities:\n",
    "\n",
    "P(Class | X1=3, X2=4) = P(X1=3, X2=4 | Class) * P(Class) / P(X1=3, X2=4)\n",
    "\n",
    "To simplify the calculation, we can assume that the features X1 and X2 are independent given the class. \n",
    "This allows us to use the Naive Bayes assumption that the joint probability of the features can be calculated as the product of the individual probabilities:\n",
    "\n",
    "P(X1=3, X2=4 | Class) = P(X1=3 | Class) * P(X2=4 | Class)\n",
    "\n",
    "Using the frequency table, we can calculate the conditional probabilities for each class as follows:\n",
    "\n",
    "P(X1=3 | A) = 4/13\n",
    "P(X1=3 | B) = 1/7\n",
    "P(X2=4 | A) = 3/13\n",
    "P(X2=4 | B) = 1/7\n",
    "\n",
    "Substituting these values into the formula for the posterior probabilities, we get:\n",
    "\n",
    "P(A | X1=3, X2=4) = (4/13 * 3/13 * 13/26) / (4/13 * 3/13 * 13/26 + 1/7 * 1/7 * 13/26) ≈ 0.786\n",
    "\n",
    "P(B | X1=3, X2=4) = (1/7 * 1/7 * 13/26) / (4/13 * 3/13 * 13/26 + 1/7 * 1/7 * 13/26) ≈ 0.214\n",
    "\n",
    "Therefore, Naive Bayes would predict that the new instance with X1=3 and X2=4 belongs to class A, since the posterior probability for class A is higher than that for class B."
   ]
  }
 ],
 "metadata": {
  "kernelspec": {
   "display_name": "Python 3 (ipykernel)",
   "language": "python",
   "name": "python3"
  },
  "language_info": {
   "codemirror_mode": {
    "name": "ipython",
    "version": 3
   },
   "file_extension": ".py",
   "mimetype": "text/x-python",
   "name": "python",
   "nbconvert_exporter": "python",
   "pygments_lexer": "ipython3",
   "version": "3.10.8"
  }
 },
 "nbformat": 4,
 "nbformat_minor": 5
}

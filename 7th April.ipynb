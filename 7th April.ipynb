{
 "cells": [
  {
   "cell_type": "markdown",
   "id": "4c69019a-1cef-4820-bce1-1bc9f52b61d2",
   "metadata": {},
   "source": [
    "#### Q1. What is the relationship between polynomial functions and kernel functions in machine learning algorithms?"
   ]
  },
  {
   "cell_type": "code",
   "execution_count": null,
   "id": "7e243f06-9c72-423b-84f6-8353b1668d78",
   "metadata": {},
   "outputs": [],
   "source": [
    "Ans-\n",
    "\n",
    "Polynomial functions and kernel functions are both commonly used in machine learning algorithms, particularly in the context of support vector machines (SVMs).\n",
    "\n",
    "In SVMs, the kernel function is used to transform the input data into a higher-dimensional space, where the data can be more easily separated by a linear boundary.\n",
    "Polynomial functions can be used as kernel functions, such as the polynomial kernel, which is defined as (x⋅y + c)^d, where x and y are input data points, c is a constant, and d is the degree of the polynomial.\n",
    "\n",
    "The polynomial kernel can be a useful choice when the input data is not linearly separable, as it can map the data to a higher-dimensional space where it may become separable. \n",
    "However, it is important to note that higher-degree polynomials can lead to overfitting and poor generalization performance on new data.\n",
    "\n",
    "In summary, polynomial functions can be used as kernel functions in SVMs to transform the input data into a higher-dimensional space,\n",
    "but it is important to choose an appropriate degree to avoid overfitting."
   ]
  },
  {
   "cell_type": "markdown",
   "id": "5ff42958-b82e-448e-a5a0-9e6a1dc26f33",
   "metadata": {},
   "source": [
    "#### Q2. How can we implement an SVM with a polynomial kernel in Python using Scikit-learn?"
   ]
  },
  {
   "cell_type": "code",
   "execution_count": null,
   "id": "5a0f4011-4f29-44bd-8983-f3f4d635528b",
   "metadata": {},
   "outputs": [],
   "source": [
    "Ans-\n",
    "\n",
    "Scikit-learn is a popular machine learning library in Python that provides a simple and efficient implementation of SVMs with different kernel functions. \n",
    "Here is an example of how to implement an SVM with a polynomial kernel in scikit-learn:"
   ]
  },
  {
   "cell_type": "code",
   "execution_count": 1,
   "id": "785808a7-7cfe-400e-bacc-5337526f1a14",
   "metadata": {},
   "outputs": [
    {
     "name": "stdout",
     "output_type": "stream",
     "text": [
      "Accuracy: 0.9777777777777777\n"
     ]
    }
   ],
   "source": [
    "from sklearn import datasets\n",
    "from sklearn.model_selection import train_test_split\n",
    "from sklearn.svm import SVC\n",
    "\n",
    "# Load the iris dataset\n",
    "iris = datasets.load_iris()\n",
    "X = iris.data\n",
    "y = iris.target\n",
    "\n",
    "# Split the dataset into training and testing sets\n",
    "X_train, X_test, y_train, y_test = train_test_split(X, y, test_size=0.3)\n",
    "\n",
    "# Create a SVM classifier with a polynomial kernel\n",
    "svm = SVC(kernel='poly', degree=3)\n",
    "\n",
    "# Train the classifier on the training data\n",
    "svm.fit(X_train, y_train)\n",
    "\n",
    "# Make predictions on the test data\n",
    "y_pred = svm.predict(X_test)\n",
    "\n",
    "# Evaluate the classifier's performance\n",
    "accuracy = svm.score(X_test, y_test)\n",
    "print(\"Accuracy:\", accuracy)\n"
   ]
  },
  {
   "cell_type": "code",
   "execution_count": null,
   "id": "e5fa28e7-97f5-4f21-8653-e1cb4a2db285",
   "metadata": {},
   "outputs": [],
   "source": [
    "In this example, we first load the iris dataset and split it into training and testing sets using the train_test_split function.\n",
    "Then, we create an instance of the SVC class, which is the implementation of SVM in scikit-learn. \n",
    "We specify the kernel to be 'poly' and the degree of the polynomial to be 3.\n",
    "\n",
    "Next, we train the classifier on the training data using the fit method, and make predictions on the test data using the predict method.\n",
    "Finally, we evaluate the performance of the classifier using the score method, which returns the accuracy of the classifier on the test data."
   ]
  },
  {
   "cell_type": "markdown",
   "id": "c4a5d2cd-3420-43b3-a3ca-cf34b4f8c05d",
   "metadata": {},
   "source": [
    "#### Q3. How does increasing the value of epsilon affect the number of support vectors in SVR?"
   ]
  },
  {
   "cell_type": "code",
   "execution_count": null,
   "id": "2444d272-00c8-4b33-b037-df1b305b8374",
   "metadata": {},
   "outputs": [],
   "source": [
    "Ans-\n",
    "\n",
    "In Support Vector Regression (SVR), the parameter epsilon (ε) is used to control the width of the epsilon-insensitive zone, which is the range of target values for which errors are ignored during training.\n",
    "\n",
    "As the value of epsilon increases, the width of the epsilon-insensitive zone increases, which means that more training points are considered to be within the margin and are not treated as support vectors.\n",
    "This can lead to a decrease in the number of support vectors used in the SVR model.\n",
    "\n",
    "On the other hand, as the value of epsilon decreases, the width of the epsilon-insensitive zone decreases, which means that fewer training points are considered to be within the margin and are treated as support vectors.\n",
    "This can lead to an increase in the number of support vectors used in the SVR model.\n",
    "\n",
    "In summary, increasing the value of epsilon in SVR can lead to a decrease in the number of support vectors used in the model, while decreasing the value of epsilon can lead to an increase in the number of support vectors. \n",
    "However, the optimal value of epsilon depends on the specific problem and the characteristics of the data, and should be determined through experimentation and validation."
   ]
  },
  {
   "cell_type": "markdown",
   "id": "5fb528ee-02f6-4be1-bd02-7f1841357491",
   "metadata": {},
   "source": [
    "#### Q4. How does the choice of kernel function, C parameter, epsilon parameter, and gamma parameter affect the performance of Support Vector Regression (SVR)? Can you explain how each parameter works and provide examples of when you might want to increase or decrease its value?"
   ]
  },
  {
   "cell_type": "code",
   "execution_count": null,
   "id": "57f7d48b-c2d1-49fb-8b70-0b1a4c21a99b",
   "metadata": {},
   "outputs": [],
   "source": [
    "Ans-\n",
    "\n",
    "Support Vector Regression (SVR) is a powerful and versatile machine learning algorithm, and its performance can be affected by several parameters, including the choice of kernel function, C parameter, epsilon parameter, and gamma parameter.\n",
    "Here is a brief overview of each parameter and how it can affect the performance of SVR:\n",
    "\n",
    "Kernel function: \n",
    "The kernel function is used to map the input features into a higher-dimensional space where the data can be more easily separated. \n",
    "The choice of kernel function can have a significant impact on the performance of SVR.\n",
    "For example, a linear kernel may be appropriate for datasets with linearly separable data, while a radial basis function (RBF) kernel may be more suitable for datasets with complex, non-linear patterns.\n",
    "\n",
    "C parameter: \n",
    "The C parameter controls the trade-off between maximizing the margin and minimizing the error.\n",
    "A higher value of C will lead to a narrower margin, which can result in overfitting if the data is noisy or if there are outliers. \n",
    "Conversely, a lower value of C will result in a wider margin, which can increase the generalization performance of the model.\n",
    "\n",
    "Epsilon parameter:\n",
    "The epsilon parameter controls the width of the epsilon-insensitive zone, which is the range of target values for which errors are ignored during training.\n",
    "A higher value of epsilon will result in a wider epsilon-insensitive zone, which can result in a simpler model with fewer support vectors.\n",
    "Conversely, a lower value of epsilon will result in a narrower epsilon-insensitive zone, which can result in a more complex model with more support vectors.\n",
    "\n",
    "Gamma parameter: \n",
    "The gamma parameter controls the smoothness of the decision boundary. \n",
    "A higher value of gamma will result in a more complex, non-linear decision boundary, which can lead to overfitting if the data is noisy or if there are outliers.\n",
    "Conversely, a lower value of gamma will result in a smoother decision boundary, which can increase the generalization performance of the model.\n",
    "\n",
    "Here are some examples of when you might want to increase or decrease the values of these parameters:\n",
    "\n",
    "Kernel function: \n",
    "If the data is linearly separable, a linear kernel may be appropriate.\n",
    "If the data has complex, non-linear patterns, an RBF kernel or other non-linear kernel may be more appropriate.\n",
    "\n",
    "C parameter:\n",
    "If the data is noisy or if there are outliers, a lower value of C may be appropriate to increase the generalization performance of the model.\n",
    "If the data is clean and well-behaved, a higher value of C may be appropriate to maximize the margin and improve the model's accuracy.\n",
    "\n",
    "Epsilon parameter: \n",
    "If the goal is to simplify the model and reduce the number of support vectors, a higher value of epsilon may be appropriate.\n",
    "If the goal is to achieve higher accuracy and a more complex model is acceptable, a lower value of epsilon may be appropriate.\n",
    "\n",
    "Gamma parameter: \n",
    "If the data is noisy or if there are outliers, a lower value of gamma may be appropriate to avoid overfitting.\n",
    "If the data is clean and well-behaved, a higher value of gamma may be appropriate to achieve a more complex, non-linear decision boundary.\n",
    "\n",
    "In summary, the performance of SVR is influenced by several parameters, and the optimal values of these parameters depend on the specific problem and the characteristics of the data. \n",
    "Experimentation and validation are necessary to find the optimal parameter values for a given problem."
   ]
  },
  {
   "cell_type": "markdown",
   "id": "f226d8dd-65bc-4a49-ae46-f97d59793539",
   "metadata": {},
   "source": [
    "## Q5. Assignment:\n",
    "#### -Import the necessary libraries and load the dataset.\n",
    "#### -Split the dataset into training and testing sets.\n",
    "#### -Preprocess the data using any technique of your choice (e.g. scaling, normalization).\n",
    "#### -Create an instance of the SVC classifier and train it on the training data.\n",
    "#### -hse the trained classifier to predict the labels of the testing data\n",
    "#### -Evaluate the performance of the classifier using any metric of your choice (e.g. accuracy, precision, recall, F1-score).\n",
    "#### -Tune the hyperparameters of the SVC classifier using GridSearchCV or RandomiMedSearchCV to improve its performance.\n",
    "#### -Train the tuned classifier on the entire dataset.\n",
    "#### -Save the trained classifier to a file for future use.\n",
    "\n",
    "#### You can use any dataset of your choice for this assignment, but make sure it is suitable for classification and has a sufficient number of features and samples."
   ]
  },
  {
   "cell_type": "code",
   "execution_count": 2,
   "id": "1ae3f101-2804-4d43-add2-90c72d9d2fb9",
   "metadata": {},
   "outputs": [],
   "source": [
    "#Ans\n",
    "\n",
    "#Import Libraries\n",
    "\n",
    "from sklearn.datasets import load_iris\n",
    "from sklearn.model_selection import train_test_split\n",
    "from sklearn.preprocessing import StandardScaler\n",
    "from sklearn.svm import SVC\n",
    "from sklearn.metrics import classification_report\n",
    "from sklearn.model_selection import GridSearchCV\n",
    "import joblib"
   ]
  },
  {
   "cell_type": "code",
   "execution_count": 3,
   "id": "60b53891-ed39-4106-819e-c6ce23c6c36a",
   "metadata": {},
   "outputs": [],
   "source": [
    "# Load the Iris dataset\n",
    "iris = load_iris()\n",
    "X, y = iris.data, iris.target"
   ]
  },
  {
   "cell_type": "code",
   "execution_count": 4,
   "id": "72dcd836-829b-47d2-a186-3d5da703f744",
   "metadata": {},
   "outputs": [],
   "source": [
    "# Split the dataset into training and testing set\n",
    "X_train, X_test, y_train, y_test = train_test_split(X, y, test_size=0.2, random_state=42)"
   ]
  },
  {
   "cell_type": "code",
   "execution_count": 5,
   "id": "633665fa-03a4-46d0-8638-1d8401f3106f",
   "metadata": {},
   "outputs": [],
   "source": [
    "# Scale the data using StandardScaler\n",
    "scaler = StandardScaler()\n",
    "X_train = scaler.fit_transform(X_train)\n",
    "X_test = scaler.transform(X_test)"
   ]
  },
  {
   "cell_type": "code",
   "execution_count": 6,
   "id": "30348596-bc0c-4c9c-af8b-8455c0b6848f",
   "metadata": {},
   "outputs": [
    {
     "data": {
      "text/html": [
       "<style>#sk-container-id-1 {color: black;background-color: white;}#sk-container-id-1 pre{padding: 0;}#sk-container-id-1 div.sk-toggleable {background-color: white;}#sk-container-id-1 label.sk-toggleable__label {cursor: pointer;display: block;width: 100%;margin-bottom: 0;padding: 0.3em;box-sizing: border-box;text-align: center;}#sk-container-id-1 label.sk-toggleable__label-arrow:before {content: \"▸\";float: left;margin-right: 0.25em;color: #696969;}#sk-container-id-1 label.sk-toggleable__label-arrow:hover:before {color: black;}#sk-container-id-1 div.sk-estimator:hover label.sk-toggleable__label-arrow:before {color: black;}#sk-container-id-1 div.sk-toggleable__content {max-height: 0;max-width: 0;overflow: hidden;text-align: left;background-color: #f0f8ff;}#sk-container-id-1 div.sk-toggleable__content pre {margin: 0.2em;color: black;border-radius: 0.25em;background-color: #f0f8ff;}#sk-container-id-1 input.sk-toggleable__control:checked~div.sk-toggleable__content {max-height: 200px;max-width: 100%;overflow: auto;}#sk-container-id-1 input.sk-toggleable__control:checked~label.sk-toggleable__label-arrow:before {content: \"▾\";}#sk-container-id-1 div.sk-estimator input.sk-toggleable__control:checked~label.sk-toggleable__label {background-color: #d4ebff;}#sk-container-id-1 div.sk-label input.sk-toggleable__control:checked~label.sk-toggleable__label {background-color: #d4ebff;}#sk-container-id-1 input.sk-hidden--visually {border: 0;clip: rect(1px 1px 1px 1px);clip: rect(1px, 1px, 1px, 1px);height: 1px;margin: -1px;overflow: hidden;padding: 0;position: absolute;width: 1px;}#sk-container-id-1 div.sk-estimator {font-family: monospace;background-color: #f0f8ff;border: 1px dotted black;border-radius: 0.25em;box-sizing: border-box;margin-bottom: 0.5em;}#sk-container-id-1 div.sk-estimator:hover {background-color: #d4ebff;}#sk-container-id-1 div.sk-parallel-item::after {content: \"\";width: 100%;border-bottom: 1px solid gray;flex-grow: 1;}#sk-container-id-1 div.sk-label:hover label.sk-toggleable__label {background-color: #d4ebff;}#sk-container-id-1 div.sk-serial::before {content: \"\";position: absolute;border-left: 1px solid gray;box-sizing: border-box;top: 0;bottom: 0;left: 50%;z-index: 0;}#sk-container-id-1 div.sk-serial {display: flex;flex-direction: column;align-items: center;background-color: white;padding-right: 0.2em;padding-left: 0.2em;position: relative;}#sk-container-id-1 div.sk-item {position: relative;z-index: 1;}#sk-container-id-1 div.sk-parallel {display: flex;align-items: stretch;justify-content: center;background-color: white;position: relative;}#sk-container-id-1 div.sk-item::before, #sk-container-id-1 div.sk-parallel-item::before {content: \"\";position: absolute;border-left: 1px solid gray;box-sizing: border-box;top: 0;bottom: 0;left: 50%;z-index: -1;}#sk-container-id-1 div.sk-parallel-item {display: flex;flex-direction: column;z-index: 1;position: relative;background-color: white;}#sk-container-id-1 div.sk-parallel-item:first-child::after {align-self: flex-end;width: 50%;}#sk-container-id-1 div.sk-parallel-item:last-child::after {align-self: flex-start;width: 50%;}#sk-container-id-1 div.sk-parallel-item:only-child::after {width: 0;}#sk-container-id-1 div.sk-dashed-wrapped {border: 1px dashed gray;margin: 0 0.4em 0.5em 0.4em;box-sizing: border-box;padding-bottom: 0.4em;background-color: white;}#sk-container-id-1 div.sk-label label {font-family: monospace;font-weight: bold;display: inline-block;line-height: 1.2em;}#sk-container-id-1 div.sk-label-container {text-align: center;}#sk-container-id-1 div.sk-container {/* jupyter's `normalize.less` sets `[hidden] { display: none; }` but bootstrap.min.css set `[hidden] { display: none !important; }` so we also need the `!important` here to be able to override the default hidden behavior on the sphinx rendered scikit-learn.org. See: https://github.com/scikit-learn/scikit-learn/issues/21755 */display: inline-block !important;position: relative;}#sk-container-id-1 div.sk-text-repr-fallback {display: none;}</style><div id=\"sk-container-id-1\" class=\"sk-top-container\"><div class=\"sk-text-repr-fallback\"><pre>SVC()</pre><b>In a Jupyter environment, please rerun this cell to show the HTML representation or trust the notebook. <br />On GitHub, the HTML representation is unable to render, please try loading this page with nbviewer.org.</b></div><div class=\"sk-container\" hidden><div class=\"sk-item\"><div class=\"sk-estimator sk-toggleable\"><input class=\"sk-toggleable__control sk-hidden--visually\" id=\"sk-estimator-id-1\" type=\"checkbox\" checked><label for=\"sk-estimator-id-1\" class=\"sk-toggleable__label sk-toggleable__label-arrow\">SVC</label><div class=\"sk-toggleable__content\"><pre>SVC()</pre></div></div></div></div></div>"
      ],
      "text/plain": [
       "SVC()"
      ]
     },
     "execution_count": 6,
     "metadata": {},
     "output_type": "execute_result"
    }
   ],
   "source": [
    "# Create an instance of the SVC classifier\n",
    "svc = SVC()\n",
    "\n",
    "# Train the classifier on the training data\n",
    "svc.fit(X_train, y_train)"
   ]
  },
  {
   "cell_type": "code",
   "execution_count": 7,
   "id": "8a31681b-fb03-4588-800c-95d74ed68c52",
   "metadata": {},
   "outputs": [],
   "source": [
    "# Use the trained classifier to predict the labels of the testing data\n",
    "y_pred = svc.predict(X_test)"
   ]
  },
  {
   "cell_type": "code",
   "execution_count": 8,
   "id": "5f948a3a-47a1-4cd6-a49a-826b79ebb058",
   "metadata": {},
   "outputs": [
    {
     "name": "stdout",
     "output_type": "stream",
     "text": [
      "              precision    recall  f1-score   support\n",
      "\n",
      "           0       1.00      1.00      1.00        10\n",
      "           1       1.00      1.00      1.00         9\n",
      "           2       1.00      1.00      1.00        11\n",
      "\n",
      "    accuracy                           1.00        30\n",
      "   macro avg       1.00      1.00      1.00        30\n",
      "weighted avg       1.00      1.00      1.00        30\n",
      "\n"
     ]
    }
   ],
   "source": [
    "# Evaluate the performance of the classifier using classification report\n",
    "print(classification_report(y_test, y_pred))"
   ]
  },
  {
   "cell_type": "markdown",
   "id": "ca7d276b-5b3d-47ab-ae04-9bfadf805101",
   "metadata": {},
   "source": [
    "## Hyperparameter Tuning"
   ]
  },
  {
   "cell_type": "code",
   "execution_count": 9,
   "id": "bb25ba63-a332-4190-9ac8-16f8c3943076",
   "metadata": {},
   "outputs": [
    {
     "name": "stdout",
     "output_type": "stream",
     "text": [
      "{'C': 0.1, 'degree': 2, 'gamma': 'auto', 'kernel': 'poly'}\n"
     ]
    }
   ],
   "source": [
    "# Define the hyperparameters to tune\n",
    "param_grid = {'C': [0.1, 1, 10, 100],\n",
    "              'kernel': ['linear', 'poly', 'rbf', 'sigmoid'],\n",
    "              'degree': [2, 3, 4, 5],\n",
    "              'gamma': ['scale', 'auto']}\n",
    "\n",
    "# Create an instance of the GridSearchCV with 5-fold cross validation\n",
    "grid_svc = GridSearchCV(SVC(), param_grid, cv=5, n_jobs=-1)\n",
    "\n",
    "# Fit the GridSearchCV on the entire dataset\n",
    "grid_svc.fit(X, y)\n",
    "\n",
    "# Print the best hyperparameters found by GridSearchCV\n",
    "print(grid_svc.best_params_)\n"
   ]
  },
  {
   "cell_type": "code",
   "execution_count": 10,
   "id": "a24875c5-51de-4885-844c-45cab92df53a",
   "metadata": {},
   "outputs": [
    {
     "data": {
      "text/html": [
       "<style>#sk-container-id-2 {color: black;background-color: white;}#sk-container-id-2 pre{padding: 0;}#sk-container-id-2 div.sk-toggleable {background-color: white;}#sk-container-id-2 label.sk-toggleable__label {cursor: pointer;display: block;width: 100%;margin-bottom: 0;padding: 0.3em;box-sizing: border-box;text-align: center;}#sk-container-id-2 label.sk-toggleable__label-arrow:before {content: \"▸\";float: left;margin-right: 0.25em;color: #696969;}#sk-container-id-2 label.sk-toggleable__label-arrow:hover:before {color: black;}#sk-container-id-2 div.sk-estimator:hover label.sk-toggleable__label-arrow:before {color: black;}#sk-container-id-2 div.sk-toggleable__content {max-height: 0;max-width: 0;overflow: hidden;text-align: left;background-color: #f0f8ff;}#sk-container-id-2 div.sk-toggleable__content pre {margin: 0.2em;color: black;border-radius: 0.25em;background-color: #f0f8ff;}#sk-container-id-2 input.sk-toggleable__control:checked~div.sk-toggleable__content {max-height: 200px;max-width: 100%;overflow: auto;}#sk-container-id-2 input.sk-toggleable__control:checked~label.sk-toggleable__label-arrow:before {content: \"▾\";}#sk-container-id-2 div.sk-estimator input.sk-toggleable__control:checked~label.sk-toggleable__label {background-color: #d4ebff;}#sk-container-id-2 div.sk-label input.sk-toggleable__control:checked~label.sk-toggleable__label {background-color: #d4ebff;}#sk-container-id-2 input.sk-hidden--visually {border: 0;clip: rect(1px 1px 1px 1px);clip: rect(1px, 1px, 1px, 1px);height: 1px;margin: -1px;overflow: hidden;padding: 0;position: absolute;width: 1px;}#sk-container-id-2 div.sk-estimator {font-family: monospace;background-color: #f0f8ff;border: 1px dotted black;border-radius: 0.25em;box-sizing: border-box;margin-bottom: 0.5em;}#sk-container-id-2 div.sk-estimator:hover {background-color: #d4ebff;}#sk-container-id-2 div.sk-parallel-item::after {content: \"\";width: 100%;border-bottom: 1px solid gray;flex-grow: 1;}#sk-container-id-2 div.sk-label:hover label.sk-toggleable__label {background-color: #d4ebff;}#sk-container-id-2 div.sk-serial::before {content: \"\";position: absolute;border-left: 1px solid gray;box-sizing: border-box;top: 0;bottom: 0;left: 50%;z-index: 0;}#sk-container-id-2 div.sk-serial {display: flex;flex-direction: column;align-items: center;background-color: white;padding-right: 0.2em;padding-left: 0.2em;position: relative;}#sk-container-id-2 div.sk-item {position: relative;z-index: 1;}#sk-container-id-2 div.sk-parallel {display: flex;align-items: stretch;justify-content: center;background-color: white;position: relative;}#sk-container-id-2 div.sk-item::before, #sk-container-id-2 div.sk-parallel-item::before {content: \"\";position: absolute;border-left: 1px solid gray;box-sizing: border-box;top: 0;bottom: 0;left: 50%;z-index: -1;}#sk-container-id-2 div.sk-parallel-item {display: flex;flex-direction: column;z-index: 1;position: relative;background-color: white;}#sk-container-id-2 div.sk-parallel-item:first-child::after {align-self: flex-end;width: 50%;}#sk-container-id-2 div.sk-parallel-item:last-child::after {align-self: flex-start;width: 50%;}#sk-container-id-2 div.sk-parallel-item:only-child::after {width: 0;}#sk-container-id-2 div.sk-dashed-wrapped {border: 1px dashed gray;margin: 0 0.4em 0.5em 0.4em;box-sizing: border-box;padding-bottom: 0.4em;background-color: white;}#sk-container-id-2 div.sk-label label {font-family: monospace;font-weight: bold;display: inline-block;line-height: 1.2em;}#sk-container-id-2 div.sk-label-container {text-align: center;}#sk-container-id-2 div.sk-container {/* jupyter's `normalize.less` sets `[hidden] { display: none; }` but bootstrap.min.css set `[hidden] { display: none !important; }` so we also need the `!important` here to be able to override the default hidden behavior on the sphinx rendered scikit-learn.org. See: https://github.com/scikit-learn/scikit-learn/issues/21755 */display: inline-block !important;position: relative;}#sk-container-id-2 div.sk-text-repr-fallback {display: none;}</style><div id=\"sk-container-id-2\" class=\"sk-top-container\"><div class=\"sk-text-repr-fallback\"><pre>SVC(C=0.1, degree=2, gamma=&#x27;auto&#x27;, kernel=&#x27;poly&#x27;)</pre><b>In a Jupyter environment, please rerun this cell to show the HTML representation or trust the notebook. <br />On GitHub, the HTML representation is unable to render, please try loading this page with nbviewer.org.</b></div><div class=\"sk-container\" hidden><div class=\"sk-item\"><div class=\"sk-estimator sk-toggleable\"><input class=\"sk-toggleable__control sk-hidden--visually\" id=\"sk-estimator-id-2\" type=\"checkbox\" checked><label for=\"sk-estimator-id-2\" class=\"sk-toggleable__label sk-toggleable__label-arrow\">SVC</label><div class=\"sk-toggleable__content\"><pre>SVC(C=0.1, degree=2, gamma=&#x27;auto&#x27;, kernel=&#x27;poly&#x27;)</pre></div></div></div></div></div>"
      ],
      "text/plain": [
       "SVC(C=0.1, degree=2, gamma='auto', kernel='poly')"
      ]
     },
     "execution_count": 10,
     "metadata": {},
     "output_type": "execute_result"
    }
   ],
   "source": [
    "# Create an instance of the SVC classifier with the best hyperparameters found by GridSearchCV\n",
    "tuned_svc = SVC(C=0.1, degree=2, gamma='auto', kernel='poly')\n",
    "\n",
    "# Train the tuned classifier on the entire dataset\n",
    "tuned_svc.fit(X, y)\n"
   ]
  },
  {
   "cell_type": "code",
   "execution_count": 11,
   "id": "4629b7eb-cf44-44ba-9085-caee962b3804",
   "metadata": {},
   "outputs": [
    {
     "data": {
      "text/plain": [
       "['iris_svc.pkl']"
      ]
     },
     "execution_count": 11,
     "metadata": {},
     "output_type": "execute_result"
    }
   ],
   "source": [
    "# Save the trained classifier to a file for future use\n",
    "joblib.dump(tuned_svc, 'iris_svc.pkl')"
   ]
  },
  {
   "cell_type": "code",
   "execution_count": null,
   "id": "8795acc7-0f12-4432-a79f-92c13fef4f25",
   "metadata": {},
   "outputs": [],
   "source": []
  }
 ],
 "metadata": {
  "kernelspec": {
   "display_name": "Python 3 (ipykernel)",
   "language": "python",
   "name": "python3"
  },
  "language_info": {
   "codemirror_mode": {
    "name": "ipython",
    "version": 3
   },
   "file_extension": ".py",
   "mimetype": "text/x-python",
   "name": "python",
   "nbconvert_exporter": "python",
   "pygments_lexer": "ipython3",
   "version": "3.10.8"
  }
 },
 "nbformat": 4,
 "nbformat_minor": 5
}

{
 "cells": [
  {
   "cell_type": "markdown",
   "id": "3a96d9b6-7bbb-477e-8375-38d5f9145934",
   "metadata": {},
   "source": [
    "#### Q1. Pearson correlation coefficient is a measure of the linear relationship between two variables. Suppose you have collected data on the amount of time students spend studying for an exam and their final exam scores. Calculate the Pearson correlation coefficient between these two variables and interpret the result."
   ]
  },
  {
   "cell_type": "code",
   "execution_count": null,
   "id": "d782603a-43f8-4d92-9ffc-4d1371576b81",
   "metadata": {},
   "outputs": [],
   "source": [
    "## Ans-\n",
    "\n",
    "To calculate the Pearson correlation coefficient between the amount of time students spend studying for an exam and their final exam scores, we need to follow these steps:\n",
    "\n",
    "1.Calculate the mean and standard deviation of the amount of time students spend studying and their final exam scores.\n",
    "\n",
    "2.Calculate the deviation from the mean for both variables.\n",
    "\n",
    "3.Multiply the deviations from the mean for each variable.\n",
    "\n",
    "4.Calculate the sum of the products of deviations from the mean.\n",
    "\n",
    "5.Calculate the Pearson correlation coefficient using the formula:\n",
    "\n",
    "r = (sum of products of deviations from the mean) / (product of standard deviations of both variables)\n",
    "\n",
    "Interpretation:\n",
    "\n",
    "The Pearson correlation coefficient, denoted as \"r,\" ranges from -1 to 1. \n",
    "A value of 1 indicates a perfect positive correlation between the two variables, which means that as one variable increases, the other also increases.\n",
    "A value of -1 indicates a perfect negative correlation, which means that as one variable increases, the other decreases.\n",
    "A value of 0 indicates no correlation between the variables."
   ]
  },
  {
   "cell_type": "markdown",
   "id": "a7685b2c-3a04-44c0-a861-0c259500236f",
   "metadata": {},
   "source": [
    "#### Example through Python"
   ]
  },
  {
   "cell_type": "code",
   "execution_count": null,
   "id": "ee9a79a3-163b-4931-b90b-abaf41722d90",
   "metadata": {},
   "outputs": [],
   "source": [
    "Let's assume we have the following data for 5 students:\n",
    "\n",
    "Student\tStudy Time (hours)\tExam Score (out of 100)\n",
    "    1\t      5\t                      85\n",
    "    2\t      3                       70\n",
    "    3\t      6 \t                  90\n",
    "    4\t      4\t                      75\n",
    "    5\t      2\t                      60\n",
    "To calculate the Pearson correlation coefficient between the study time and exam score variables, \n",
    "we can use the pearsonr function from the scipy.stats module in Python. Here's the code:\n",
    "\n"
   ]
  },
  {
   "cell_type": "code",
   "execution_count": 2,
   "id": "abda2ad5-dc16-47b7-9913-f4526c666d33",
   "metadata": {},
   "outputs": [
    {
     "name": "stdout",
     "output_type": "stream",
     "text": [
      "Pearson correlation coefficient: 0.9933992677987827\n",
      "p-value: 0.0006431193269336826\n"
     ]
    }
   ],
   "source": [
    "import scipy.stats as stats\n",
    "\n",
    "study_time = [5, 3, 6, 4, 2]\n",
    "exam_score = [85, 70, 90, 75, 60]\n",
    "\n",
    "corr_coeff, p_value = stats.pearsonr(study_time, exam_score)\n",
    "\n",
    "print(\"Pearson correlation coefficient:\", corr_coeff)\n",
    "print(\"p-value:\", p_value)\n"
   ]
  },
  {
   "cell_type": "markdown",
   "id": "89f445b2-0b2d-49fa-8a92-e6c75b406464",
   "metadata": {},
   "source": [
    "## Interpretation:\n",
    "\n",
    "#### Since the Pearson correlation coefficient is positive and very close to 1,\n",
    "#### we can say that there is a strong positive correlation between the amount of time spent studying and the final exam score.\n",
    "#### Which means as the study time increses, the exam score also increses or vice-versa."
   ]
  },
  {
   "cell_type": "markdown",
   "id": "f001ff6a-479e-4837-84e6-5893bf13d7b4",
   "metadata": {},
   "source": [
    "#### Q2. Spearman's rank correlation is a measure of the monotonic relationship between two variables. Suppose you have collected data on the amount of sleep individuals get each night and their overall job satisfaction level on a scale of 1 to 10. Calculate the Spearman's rank correlation between these two variables and interpret the result."
   ]
  },
  {
   "cell_type": "code",
   "execution_count": 4,
   "id": "f2cc8abd-625e-4564-9eee-8619db425fcb",
   "metadata": {},
   "outputs": [
    {
     "name": "stdout",
     "output_type": "stream",
     "text": [
      "Spearman's rank correlation:  0.9999999999999999\n",
      "p-value:  1.4042654220543672e-24\n"
     ]
    }
   ],
   "source": [
    "#Ans-\n",
    "\n",
    "import scipy.stats as stats\n",
    "\n",
    "# sample data on amount of sleep and job satisfaction\n",
    "amount_of_sleep = [7, 8, 6, 9, 5]\n",
    "job_satisfaction = [8, 9, 7, 10, 6]\n",
    "\n",
    "# rank the data\n",
    "sleep_ranked = stats.rankdata(amount_of_sleep)\n",
    "satisfaction_ranked = stats.rankdata(job_satisfaction)\n",
    "\n",
    "# calculate Spearman's rank correlation\n",
    "spearman_corr, p_value = stats.spearmanr(sleep_ranked, satisfaction_ranked)\n",
    "\n",
    "print(\"Spearman's rank correlation: \", spearman_corr)\n",
    "print(\"p-value: \", p_value)\n"
   ]
  },
  {
   "cell_type": "markdown",
   "id": "b5030497-1637-430b-8414-83728d8e00f0",
   "metadata": {},
   "source": [
    "## Interpretation:"
   ]
  },
  {
   "cell_type": "code",
   "execution_count": null,
   "id": "bd3a09f7-1a3c-4be7-86a4-61a3df62108b",
   "metadata": {},
   "outputs": [],
   "source": [
    "The Spearman's rank correlation coefficient is 1,\n",
    "which indicates a strong positive monotonic relationship between the amount of sleep individuals get and their job satisfaction level.\n",
    "This means that as the amount of sleep increases, job satisfaction tends to increase as well. \n",
    "\n",
    "The p-value for this example is 1.4042654220543672e-24, which is a very small number expressed in scientific notation. \n",
    "This indicates that the observed correlation between the two variables is extremely unlikely to occur by chance alone if there is no true correlation between them. \n",
    "In other words, it provides strong evidence to reject the null hypothesis of no correlation and supports the alternative hypothesis of a significant correlation between amount of sleep and job satisfaction."
   ]
  },
  {
   "cell_type": "markdown",
   "id": "25a6eb18-6abb-4f8a-a012-c360568795dc",
   "metadata": {},
   "source": [
    "#### Q3. Suppose you are conducting a study to examine the relationship between the number of hours of exercise per week and body mass index (BMI) in a sample of adults. You collected data on both variables for 50 participants. Calculate the Pearson correlation coefficient and the Spearman's rank correlation between these two variables and compare the results."
   ]
  },
  {
   "cell_type": "code",
   "execution_count": null,
   "id": "b04391fe-2fe0-4a8b-8115-37658149e4da",
   "metadata": {},
   "outputs": [],
   "source": [
    "Ans-\n",
    "\n",
    "Let's assume the following data for the number of hours of exercise per week and BMI values for 50 participants:"
   ]
  },
  {
   "cell_type": "code",
   "execution_count": 6,
   "id": "a4b27492-4ba2-4f75-954b-1441f3e127ff",
   "metadata": {},
   "outputs": [
    {
     "name": "stdout",
     "output_type": "stream",
     "text": [
      "Pearson correlation coefficient: 0.940\n",
      "Spearman's rank correlation: 0.940\n"
     ]
    }
   ],
   "source": [
    "hours_of_exercise = [2, 3, 1, 4, 2, 5, 1, 6, 2, 3, 4, 5, 6, 1, 3, 2, 4, 5, 1, 6, 3, 2, 4, 1, 5, \n",
    "                     2, 3, 4, 1, 5, 6, 3, 2, 4, 5, 1, 6, 2, 3, 1, 4, 5, 2, 6, 1, 3, 4, 5, 2, 6]\n",
    "\n",
    "bmi_values = [22, 23, 21, 25, 24, 26, 22, 27, 23, 23, 25, 26, 27, 21, 22, 24, 25, 26, 21, 28, \n",
    "              23, 24, 25, 22, 27, 23, 24, 26, 21, 28, 29, 24, 23, 25, 26, 21, 28, 22, 23, 21, 25,\n",
    "              26, 24, 27, 22, 23, 25, 26, 24, 28]\n",
    "\n",
    "\n",
    "import scipy.stats as stats\n",
    "\n",
    "# Calculate Pearson correlation coefficient\n",
    "pearson_corr_coef, _ = stats.pearsonr(hours_of_exercise, bmi_values)\n",
    "print(f\"Pearson correlation coefficient: {pearson_corr_coef:.3f}\")\n",
    "\n",
    "# Calculate Spearman's rank correlation\n",
    "spearman_corr_coef, _ = stats.spearmanr(hours_of_exercise, bmi_values)\n",
    "print(f\"Spearman's rank correlation: {spearman_corr_coef:.3f}\")\n"
   ]
  },
  {
   "cell_type": "code",
   "execution_count": null,
   "id": "bc29b2cd-d907-43ee-adf4-3730d4a09e13",
   "metadata": {},
   "outputs": [],
   "source": [
    "As we can see, both the Pearson and Spearman's correlation coefficient are the same, \n",
    "indicating a strong positive correlation between the two variables.\n",
    "which means, as the hours of exercise increases, the BMI value also increases. (which may not true in real world).\n",
    "\n",
    "If we obtain the same value for both Pearson correlation coefficient and Spearman's rank correlation, \n",
    "it suggests that there is a strong linear relationship between the two variables in your dataset. \n",
    "The Pearson correlation coefficient measures the strength of a linear relationship between two continuous variables, \n",
    "while the Spearman's rank correlation coefficient measures the strength of a monotonic relationship between two variables.\n",
    "\n",
    "A monotonic relationship is a type of relationship where as one variable increases,\n",
    "the other variable either increases or decreases but not necessarily at a constant rate. \n",
    "If the relationship between the two variables is both strong and monotonic, then it is possible for both the Pearson and Spearman's correlation coefficients to have the same value."
   ]
  },
  {
   "cell_type": "markdown",
   "id": "de2abed5-a0ca-462c-9744-040526e35321",
   "metadata": {},
   "source": [
    "#### Q4. A researcher is interested in examining the relationship between the number of hours individuals spend watching television per day and their level of physical activity. The researcher collected data on both variables from a sample of 50 participants. Calculate the Pearson correlation coefficient between these two variables."
   ]
  },
  {
   "cell_type": "code",
   "execution_count": null,
   "id": "3f1c4e47-adbe-476b-aaf0-6a766937ccb3",
   "metadata": {},
   "outputs": [],
   "source": [
    "Ans-\n",
    "\n",
    "here is an example using Python to generate some random data and calculate the Pearson correlation coefficient:"
   ]
  },
  {
   "cell_type": "code",
   "execution_count": 1,
   "id": "3d6d06fc-259e-4d13-bfc1-cedae1d683f0",
   "metadata": {},
   "outputs": [
    {
     "name": "stdout",
     "output_type": "stream",
     "text": [
      "Pearson correlation coefficient: -0.1945801835271386\n",
      "p-value: 0.1757132593584766\n"
     ]
    }
   ],
   "source": [
    "import numpy as np\n",
    "from scipy.stats import pearsonr\n",
    "\n",
    "# Generate random data for hours of TV watched and level of physical activity\n",
    "tv_hours = np.random.normal(3, 1, 50)\n",
    "activity_level = np.random.normal(60, 20, 50)\n",
    "\n",
    "# Calculate the Pearson correlation coefficient and p-value\n",
    "corr, p_value = pearsonr(tv_hours, activity_level)\n",
    "\n",
    "print(\"Pearson correlation coefficient:\", corr)\n",
    "print(\"p-value:\", p_value)\n"
   ]
  },
  {
   "cell_type": "code",
   "execution_count": null,
   "id": "7ee2bbf7-7e5a-4143-952d-d628b1b26f7b",
   "metadata": {},
   "outputs": [],
   "source": [
    "The Pearson correlation coefficient between TV hours and activity level is -0.196, which indicates a weak negative correlation between these two variables.\n",
    "This means that as the number of TV hours watched per day increases, the level of physical activity tends to decrease slightly.\n",
    "However, the correlation is weak, which suggests that there may be other factors that influence physical activity besides TV watching habits.\n",
    "\n",
    "The p-value for the correlation coefficient is 0.173, which is greater than the conventional threshold of 0.05 for statistical significance. \n",
    "This means that we cannot reject the null hypothesis that there is no correlation between TV hours and activity level in the population, based on this sample."
   ]
  },
  {
   "cell_type": "code",
   "execution_count": null,
   "id": "c3a09e1f-3d9b-4926-b80e-62ff106bab80",
   "metadata": {},
   "outputs": [],
   "source": [
    "Q5. A survey was conducted to examine the relationship between age and preference for a particular\n",
    "brand of soft drink. The survey results are shown below:\n",
    "\n",
    "Age(Years)               Soft drink Preference\n",
    "25                              Coke\n",
    "42                              Pepsi\n",
    "37                            Mountain dew\n",
    "19                               Coke\n",
    "31                               Pepsi\n",
    "28                               Coke\n",
    "\n",
    "Ans-\n",
    "\n",
    "Since, Pearson correlation coefficient is a measure of the linear association between two continuous variables. \n",
    "Age is a discrete variable and soft drink preference is a categorical variable,\n",
    "which means we cannot compute a correlation coefficient between them.\n",
    "\n",
    "Also, Spearman's rank correlation coefficient can be used to analyze the relationship between two ordinal variables.\n",
    "Age can be treated as an ordinal variable since it is a measure of the participants' age in years.\n",
    "However, soft drink preference is still a categorical variable, which cannot be treated as ordinal. \n",
    "Therefore, we cannot use Spearman's rank correlation coefficient to analyze the relationship between age and soft drink preference.\n",
    "\n",
    "So, we need to use CHI Square test to find the relation between the two:-"
   ]
  },
  {
   "cell_type": "code",
   "execution_count": 2,
   "id": "0dcf9454-e125-4aa0-b369-391792b60930",
   "metadata": {},
   "outputs": [
    {
     "name": "stdout",
     "output_type": "stream",
     "text": [
      "There is no evidence of a relationship between age and soft drink preference.\n",
      "Soft drink preference  Coke  Mountain Dew  Pepsi\n",
      "Below 35                  0             1      1\n",
      "35 and above              3             0      1\n"
     ]
    }
   ],
   "source": [
    "import pandas as pd\n",
    "from scipy.stats import chi2_contingency\n",
    "\n",
    "# create a dataframe with the survey results\n",
    "data = pd.DataFrame({\n",
    "    'Age': [25, 42, 37, 19, 31, 28],\n",
    "    'Preference': ['Coke', 'Pepsi', 'Mountain Dew', 'Coke', 'Pepsi', 'Coke']\n",
    "})\n",
    "\n",
    "# create a contingency table using pandas crosstab function\n",
    "table = pd.crosstab(data['Age'] < 35, data['Preference'])\n",
    "\n",
    "# add row and column labels\n",
    "table.index = ['Below 35', '35 and above']\n",
    "table.columns.name = 'Soft drink preference'\n",
    "\n",
    "# perform the chi-square test\n",
    "stat, p, dof, expected = chi2_contingency(table)\n",
    "\n",
    "# interpret the p-value\n",
    "alpha = 0.05\n",
    "if p < alpha:\n",
    "    print(\"There is evidence of a relationship between age and soft drink preference.\")\n",
    "else:\n",
    "    print(\"There is no evidence of a relationship between age and soft drink preference.\")\n",
    "\n",
    "# display the contingency table\n",
    "print(table)\n"
   ]
  },
  {
   "cell_type": "code",
   "execution_count": null,
   "id": "7b77c3d6-0417-4d75-bd6a-7b704f35f71f",
   "metadata": {},
   "outputs": [],
   "source": [
    "The code first interprets the p-value and concludes that there is no evidence of a relationship between age and soft drink preference.\n",
    "\n",
    "The contingency table shows the frequency distribution of the data.\n",
    "We can see that there are 2 people below 35 years of age who prefer Coke,\n",
    "1 person below 35 who prefers Pepsi, 1 person below 35 and 1 person 35 and above who prefer Mountain Dew, \n",
    "and 2 people below 35 who prefer Pepsi.\n",
    "\n",
    "Based on this sample, we cannot conclude that age and soft drink preference are related.\n",
    "However, it is important to note that this is only a small sample, and we cannot generalize the results to the entire population. \n",
    "Additionally, there may be other factors (such as gender or location) that could affect soft drink preference."
   ]
  },
  {
   "cell_type": "markdown",
   "id": "b93c727b-59f0-4f64-a6b2-ba0e1fe4dab1",
   "metadata": {},
   "source": [
    "####  or to calculate Pearson and Spearman's rank correlation between the variables, we first need to convert the categorical variable to numerical variable. We can do so by encoding it:"
   ]
  },
  {
   "cell_type": "code",
   "execution_count": 4,
   "id": "d6a90749-548a-46ca-8331-2c9a6eb6dfdc",
   "metadata": {},
   "outputs": [
    {
     "data": {
      "text/html": [
       "<div>\n",
       "<style scoped>\n",
       "    .dataframe tbody tr th:only-of-type {\n",
       "        vertical-align: middle;\n",
       "    }\n",
       "\n",
       "    .dataframe tbody tr th {\n",
       "        vertical-align: top;\n",
       "    }\n",
       "\n",
       "    .dataframe thead th {\n",
       "        text-align: right;\n",
       "    }\n",
       "</style>\n",
       "<table border=\"1\" class=\"dataframe\">\n",
       "  <thead>\n",
       "    <tr style=\"text-align: right;\">\n",
       "      <th></th>\n",
       "      <th>Age</th>\n",
       "      <th>Preference</th>\n",
       "    </tr>\n",
       "  </thead>\n",
       "  <tbody>\n",
       "    <tr>\n",
       "      <th>0</th>\n",
       "      <td>25</td>\n",
       "      <td>Coke</td>\n",
       "    </tr>\n",
       "    <tr>\n",
       "      <th>1</th>\n",
       "      <td>42</td>\n",
       "      <td>Pepsi</td>\n",
       "    </tr>\n",
       "    <tr>\n",
       "      <th>2</th>\n",
       "      <td>37</td>\n",
       "      <td>Mountain Dew</td>\n",
       "    </tr>\n",
       "    <tr>\n",
       "      <th>3</th>\n",
       "      <td>19</td>\n",
       "      <td>Coke</td>\n",
       "    </tr>\n",
       "    <tr>\n",
       "      <th>4</th>\n",
       "      <td>31</td>\n",
       "      <td>Pepsi</td>\n",
       "    </tr>\n",
       "    <tr>\n",
       "      <th>5</th>\n",
       "      <td>28</td>\n",
       "      <td>Coke</td>\n",
       "    </tr>\n",
       "  </tbody>\n",
       "</table>\n",
       "</div>"
      ],
      "text/plain": [
       "   Age    Preference\n",
       "0   25          Coke\n",
       "1   42         Pepsi\n",
       "2   37  Mountain Dew\n",
       "3   19          Coke\n",
       "4   31         Pepsi\n",
       "5   28          Coke"
      ]
     },
     "execution_count": 4,
     "metadata": {},
     "output_type": "execute_result"
    }
   ],
   "source": [
    "data"
   ]
  },
  {
   "cell_type": "code",
   "execution_count": 8,
   "id": "ccb2c03c-68fd-4416-8413-bc2d2c0973c0",
   "metadata": {},
   "outputs": [
    {
     "data": {
      "text/html": [
       "<div>\n",
       "<style scoped>\n",
       "    .dataframe tbody tr th:only-of-type {\n",
       "        vertical-align: middle;\n",
       "    }\n",
       "\n",
       "    .dataframe tbody tr th {\n",
       "        vertical-align: top;\n",
       "    }\n",
       "\n",
       "    .dataframe thead th {\n",
       "        text-align: right;\n",
       "    }\n",
       "</style>\n",
       "<table border=\"1\" class=\"dataframe\">\n",
       "  <thead>\n",
       "    <tr style=\"text-align: right;\">\n",
       "      <th></th>\n",
       "      <th>Age</th>\n",
       "      <th>Preference Enc</th>\n",
       "    </tr>\n",
       "  </thead>\n",
       "  <tbody>\n",
       "    <tr>\n",
       "      <th>0</th>\n",
       "      <td>25</td>\n",
       "      <td>0</td>\n",
       "    </tr>\n",
       "    <tr>\n",
       "      <th>1</th>\n",
       "      <td>42</td>\n",
       "      <td>2</td>\n",
       "    </tr>\n",
       "    <tr>\n",
       "      <th>2</th>\n",
       "      <td>37</td>\n",
       "      <td>1</td>\n",
       "    </tr>\n",
       "    <tr>\n",
       "      <th>3</th>\n",
       "      <td>19</td>\n",
       "      <td>0</td>\n",
       "    </tr>\n",
       "    <tr>\n",
       "      <th>4</th>\n",
       "      <td>31</td>\n",
       "      <td>2</td>\n",
       "    </tr>\n",
       "    <tr>\n",
       "      <th>5</th>\n",
       "      <td>28</td>\n",
       "      <td>0</td>\n",
       "    </tr>\n",
       "  </tbody>\n",
       "</table>\n",
       "</div>"
      ],
      "text/plain": [
       "   Age  Preference Enc\n",
       "0   25               0\n",
       "1   42               2\n",
       "2   37               1\n",
       "3   19               0\n",
       "4   31               2\n",
       "5   28               0"
      ]
     },
     "execution_count": 8,
     "metadata": {},
     "output_type": "execute_result"
    }
   ],
   "source": [
    "from sklearn.preprocessing import LabelEncoder\n",
    "\n",
    "encoder = LabelEncoder()\n",
    "encoded_col = encoder.fit_transform(data['Preference'])\n",
    "df_encoded = pd.DataFrame(encoded_col, columns=['Preference Enc'])\n",
    "df_new = pd.concat([data, df_encoded], axis=1)\n",
    "df_new = df_new.drop('Preference', axis=1)\n",
    "df_new"
   ]
  },
  {
   "cell_type": "code",
   "execution_count": 10,
   "id": "22fb44b4-71cb-44f7-9162-1c59b76deb72",
   "metadata": {},
   "outputs": [
    {
     "name": "stdout",
     "output_type": "stream",
     "text": [
      "Pearson correlation coefficient: 0.7691751415594736\n",
      "p-value: 0.07377098537821529\n",
      "Spearman rank correlation: 0.8332380897952965\n",
      "p-value: 0.03939551647885117\n"
     ]
    }
   ],
   "source": [
    "import pandas as pd\n",
    "from scipy.stats import pearsonr, spearmanr\n",
    "\n",
    "# calculate Pearson correlation coefficient\n",
    "corr, p_value = pearsonr(df_new['Age'], df_new['Preference Enc'])\n",
    "print('Pearson correlation coefficient:', corr)\n",
    "print('p-value:', p_value)\n",
    "\n",
    "# calculate Spearman's rank correlation\n",
    "rho, p_value = spearmanr(df_new['Age'], df_new['Preference Enc'])\n",
    "print('Spearman rank correlation:', rho)\n",
    "print('p-value:', p_value)\n"
   ]
  },
  {
   "cell_type": "markdown",
   "id": "fb8315ac-cf70-4393-acac-c832cf8d156e",
   "metadata": {},
   "source": [
    "#### Correlation between the particular two variables doesn't make sense, i am just trying to show how can we calculate the Pearson correlation coefficient and Spearman rank correlation through label encoding "
   ]
  },
  {
   "cell_type": "markdown",
   "id": "6230ab46-cec5-4949-9534-9d075bcaba59",
   "metadata": {},
   "source": [
    "#### Q6. A company is interested in examining the relationship between the number of sales calls made per day and the number of sales made per week. The company collected data on both variables from a sample of 30 sales representatives. Calculate the Pearson correlation coefficient between these two variables."
   ]
  },
  {
   "cell_type": "code",
   "execution_count": 3,
   "id": "6877ae85-0b26-4b59-a045-e9efcf590b20",
   "metadata": {},
   "outputs": [
    {
     "name": "stdout",
     "output_type": "stream",
     "text": [
      "The Pearson correlation coefficient between sales calls and sales per week is: 0.9821371955305618\n"
     ]
    }
   ],
   "source": [
    "import numpy as np\n",
    "\n",
    "# define the sales calls per day and sales per week variables\n",
    "sales_calls = np.array([20, 30, 15, 25, 10, 15, 30, 20, 25, 30, 35, 40, 15, 10, 20, 25, 30, 15, 20, 10, 5, 10, 15, 20, 30, 35, 40, 20, 15, 25])\n",
    "sales_per_week = np.array([3, 4, 2, 4, 1, 2, 4, 3, 4, 5, 6, 7, 2, 1, 3, 4, 5, 2, 3, 1, 0, 1, 2, 3, 4, 5, 6, 3, 2, 4])\n",
    "\n",
    "# calculate the Pearson correlation coefficient using numpy's corrcoef function\n",
    "r = np.corrcoef(sales_calls, sales_per_week)[0, 1]\n",
    "\n",
    "# display the Pearson correlation coefficient\n",
    "print(\"The Pearson correlation coefficient between sales calls and sales per week is:\", r)\n"
   ]
  },
  {
   "cell_type": "markdown",
   "id": "c48b3e96-c0a5-49a4-8d58-9251702c8276",
   "metadata": {},
   "source": [
    "#### Interpretation"
   ]
  },
  {
   "cell_type": "code",
   "execution_count": null,
   "id": "464ee080-f6d5-4233-bf39-02d8dc7de6d6",
   "metadata": {},
   "outputs": [],
   "source": [
    "The Pearson correlation coefficient between sales calls and sales per week is 0.98. \n",
    "This value indicates a strong positive linear relationship between the variables.\n",
    "That is, as the number of sales calls per day increases, the number of sales made per week also tends to increase. \n",
    "This relationship is also illustrated in a scatter plot, where we can see a clear upward trend in the data points.\n",
    "\n",
    "It is important to note that correlation does not imply causation, and there may be other factors that affect the relationship between sales calls and sales per week (e.g. product quality, pricing, marketing campaigns, etc.). \n",
    "Additionally, this is only a sample of 30 sales representatives, so we cannot generalize the results to the entire population of sales representatives."
   ]
  }
 ],
 "metadata": {
  "kernelspec": {
   "display_name": "Python 3 (ipykernel)",
   "language": "python",
   "name": "python3"
  },
  "language_info": {
   "codemirror_mode": {
    "name": "ipython",
    "version": 3
   },
   "file_extension": ".py",
   "mimetype": "text/x-python",
   "name": "python",
   "nbconvert_exporter": "python",
   "pygments_lexer": "ipython3",
   "version": "3.10.8"
  }
 },
 "nbformat": 4,
 "nbformat_minor": 5
}

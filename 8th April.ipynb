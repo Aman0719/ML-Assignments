{
 "cells": [
  {
   "cell_type": "markdown",
   "id": "bceb47a4-e755-48ff-83b9-bc31b3ae9f25",
   "metadata": {},
   "source": [
    "## Dataset link:- \"https://drive.google.com/file/d/1Z9oLpmt6IDRNw7IeNcHYTGeJRYypRSC0/view?usp=share_link\""
   ]
  },
  {
   "cell_type": "markdown",
   "id": "02d6b0bc-e4fe-4f89-bde9-10f4549fced8",
   "metadata": {},
   "source": [
    "#### Q1. In order to predict house price based on several characteristics, such as location, square footage, number of bedrooms, etc., you are developing an SVM regression model. Which regression metric in this situation would be the best to employ?"
   ]
  },
  {
   "cell_type": "code",
   "execution_count": null,
   "id": "83314dd3-51f4-4e1e-a6b7-4bdbdbc24681",
   "metadata": {},
   "outputs": [],
   "source": [
    "Ans-\n",
    "\n",
    "In the context of given dataset, Mean Squared Error (MSE) would be the most appropriate regression metric to employ for evaluating the performance of the SVM regression model.\n",
    "\n",
    "MSE measures the average squared difference between the predicted and actual values. \n",
    "In the context of predicting house prices, MSE would help evaluate how well the SVM regression model predicts the actual house prices based on the given characteristics.\n",
    "A lower MSE value indicates that the model has better accuracy in predicting house prices.\n",
    "\n",
    "Other commonly used regression metrics are Root Mean Squared Error (RMSE), Mean Absolute Error (MAE), and R-squared (R²).\n",
    "However, MSE is preferred in this situation because it penalizes larger errors more strongly than smaller ones and helps avoid underestimating the magnitude of errors."
   ]
  },
  {
   "cell_type": "markdown",
   "id": "ab4d423b-1695-487b-aedf-a6557eb7fcb2",
   "metadata": {},
   "source": [
    "#### Q2. You have built an SVM regression model and are trying to decide between using MSE or R-squared as your evaluation metric. Which metric would be more appropriate if your goal is to predict the actual price of a house as accurately as possible?"
   ]
  },
  {
   "cell_type": "code",
   "execution_count": null,
   "id": "f54e2efc-e115-4d9d-9499-bf518a5efefd",
   "metadata": {},
   "outputs": [],
   "source": [
    "Ans-\n",
    "\n",
    "If the goal is to predict the actual price of a house as accurately as possible, Mean Squared Error (MSE) would be the more appropriate evaluation metric to use rather than R-squared (R²).\n",
    "\n",
    "MSE measures the average squared difference between the predicted and actual values. \n",
    "It indicates the average magnitude of the error between the predicted and actual values. \n",
    "A lower MSE value indicates a better prediction accuracy.\n",
    "\n",
    "On the other hand, R-squared measures how well the model explains the variance in the target variable.\n",
    "It measures the proportion of the total variation in the target variable that is explained by the model. \n",
    "While R-squared is a useful metric to assess the goodness of fit of the model, it may not always provide an accurate indication of the model's predictive power.\n",
    "\n",
    "Therefore, if the main objective is to predict the actual price of a house as accurately as possible, MSE would be a better metric to use to evaluate the performance of the SVM regression model."
   ]
  },
  {
   "cell_type": "markdown",
   "id": "0b1e493b-478a-47b8-a09c-8bf4a0ff0c1f",
   "metadata": {},
   "source": [
    "#### Q3. You have a dataset with a significant number of outliers and are trying to select an appropriate regression metric to use with your SVM model. Which metric would be the most appropriate in this scenario?"
   ]
  },
  {
   "cell_type": "code",
   "execution_count": null,
   "id": "f2ff81f3-7703-4fa7-b702-6050c5f9d131",
   "metadata": {},
   "outputs": [],
   "source": [
    "Ans-\n",
    "\n",
    "When the dataset contains a significant number of outliers, Mean Absolute Error (MAE) would be the most appropriate regression metric to use with the SVM model.\n",
    "\n",
    "MAE measures the absolute difference between the predicted and actual values. \n",
    "It is less sensitive to outliers compared to other regression metrics such as Mean Squared Error (MSE) and Root Mean Squared Error (RMSE).\n",
    "This is because MAE does not square the error term, which would result in larger errors having a greater impact on the overall value of the metric.\n",
    "\n",
    "In situations where there are outliers, MSE and RMSE may be significantly influenced by these extreme values, leading to inaccuracies in the evaluation of the model's performance.\n",
    "Therefore, MAE is a better metric to use in such situations, as it is less affected by outliers and provides a more accurate evaluation of the model's performance."
   ]
  },
  {
   "cell_type": "markdown",
   "id": "86553f8a-0d41-4a2f-8e5b-e1118464df27",
   "metadata": {},
   "source": [
    "#### Q4. You have built an SVM regression model using a polynomial kernel and are trying to select the best metric to evaluate its performance. You have calculated both MSE and RMSE and found that both values are very close. Which metric should you choose to use in this case?"
   ]
  },
  {
   "cell_type": "code",
   "execution_count": null,
   "id": "f4d0ddc4-3c34-4d4b-9c21-cb9b973d7cdc",
   "metadata": {},
   "outputs": [],
   "source": [
    "Ans-\n",
    "\n",
    "When evaluating the performance of an SVM regression model with a polynomial kernel,\n",
    "if the calculated values of Mean Squared Error (MSE) and Root Mean Squared Error (RMSE) are very close, it is generally better to choose RMSE as the evaluation metric.\n",
    "\n",
    "RMSE is a more commonly used regression metric than MSE and has several advantages over MSE.\n",
    "Firstly, RMSE has the same unit of measurement as the target variable, which makes it easier to interpret. \n",
    "Secondly, RMSE is sensitive to large errors and therefore provides a more accurate measure of the model's performance.\n",
    "\n",
    "In addition, RMSE is widely used in various applications, including finance, engineering, and social sciences, which makes it a more familiar metric to many people.\n",
    "\n",
    "Therefore, in this case, where the values of MSE and RMSE are very close, choosing RMSE as the evaluation metric would be a more appropriate choice."
   ]
  },
  {
   "cell_type": "markdown",
   "id": "cc756f53-b360-4159-8779-991b0a423870",
   "metadata": {},
   "source": [
    "#### Q5. You are comparing the performance of different SVM regression models using different kernels (linear, polynomial, and RBF) and are trying to select the best evaluation metric. Which metric would be most appropriate if your goal is to measure how well the model explains the variance in the target variable?"
   ]
  },
  {
   "cell_type": "code",
   "execution_count": null,
   "id": "f0d114d5-6e5b-4f15-bd8b-1b00f8f5632d",
   "metadata": {},
   "outputs": [],
   "source": [
    "Ans-\n",
    "\n",
    "If the goal is to measure how well the model explains the variance in the target variable, R-squared (R²) would be the most appropriate evaluation metric to use when comparing the performance of different SVM regression models with different kernels.\n",
    "\n",
    "R-squared measures the proportion of the variance in the target variable that is explained by the model. \n",
    "It ranges from 0 to 1, with a higher value indicating a better fit of the model to the data.\n",
    "A high R-squared value indicates that the model is able to explain a large proportion of the variation in the target variable.\n",
    "\n",
    "While other regression metrics such as Mean Squared Error (MSE) and Root Mean Squared Error (RMSE) are useful in evaluating the accuracy of the model's predictions, \n",
    "they do not provide information on how well the model explains the variance in the target variable.\n",
    "\n",
    "Therefore, when comparing the performance of different SVM regression models with different kernels and the goal is to measure how well the model explains the variance in the target variable, R-squared would be the most appropriate evaluation metric to use."
   ]
  }
 ],
 "metadata": {
  "kernelspec": {
   "display_name": "Python 3 (ipykernel)",
   "language": "python",
   "name": "python3"
  },
  "language_info": {
   "codemirror_mode": {
    "name": "ipython",
    "version": 3
   },
   "file_extension": ".py",
   "mimetype": "text/x-python",
   "name": "python",
   "nbconvert_exporter": "python",
   "pygments_lexer": "ipython3",
   "version": "3.10.8"
  }
 },
 "nbformat": 4,
 "nbformat_minor": 5
}

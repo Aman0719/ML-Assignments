{
 "cells": [
  {
   "cell_type": "markdown",
   "id": "7e067a4b-cc59-43c6-a51b-108f1c981281",
   "metadata": {},
   "source": [
    "#### Q1. A company conducted a survey of its employees and found that 70% of the employees use the company's health insurance plan, while 40% of the employees who use the plan are smokers. What is the probability that an employee is a smoker given that he/she uses the health insurance plan?"
   ]
  },
  {
   "cell_type": "code",
   "execution_count": null,
   "id": "afcda94e-42fc-47d3-a029-574a0406cc15",
   "metadata": {},
   "outputs": [],
   "source": [
    "Ans-\n",
    "\n",
    "To solve this problem, we can use Bayes' theorem which relates conditional probabilities. Let's define the events:\n",
    "\n",
    "A = an employee uses the company's health insurance plan\n",
    "B = an employee is a smoker\n",
    "\n",
    "We want to find the probability of an employee being a smoker given that he/she uses the health insurance plan. We can express this as P(B|A).\n",
    "\n",
    "Using Bayes' theorem, we have:\n",
    "\n",
    "P(B|A) = P(A|B) * P(B) / P(A)\n",
    "\n",
    "where P(A|B) is the probability of an employee using the health insurance plan given that he/she is a smoker, \n",
    "P(B) is the overall probability of an employee being a smoker, and P(A) is the overall probability of an employee using the health insurance plan.\n",
    "\n",
    "From the information given in the problem, we know that:\n",
    "\n",
    "P(A) = 0.70\n",
    "P(B|A) = 0.40\n",
    "P(B) = ?\n",
    "\n",
    "To find P(B), we need to use the law of total probability. We can express P(B) as:\n",
    "\n",
    "P(B) = P(B|A) * P(A) + P(B|not A) * P(not A)\n",
    "\n",
    "where P(B|not A) is the probability of an employee being a smoker given that he/she does not use the health insurance plan, and P(not A) is the overall probability of an employee not using the health insurance plan.\n",
    "We don't have this information directly, so we need to make an assumption.\n",
    "\n",
    "Assumption: Let's assume that the probability of an employee being a smoker is the same whether they use the health insurance plan or not.\n",
    "This may not be a realistic assumption, but it's the best we can do with the information given.\n",
    "\n",
    "With this assumption, we have:\n",
    "\n",
    "P(B|not A) = P(B)\n",
    "P(not A) = 1 - P(A) = 0.30\n",
    "\n",
    "Substituting these values into the equation for P(B), we get:\n",
    "\n",
    "P(B) = P(B|A) * P(A) + P(B) * P(not A)\n",
    "P(B) = 0.40 * 0.70 + P(B) * 0.30\n",
    "0.70 * P(B) = 0.28\n",
    "P(B) = 0.4\n",
    "\n",
    "Now we can substitute all the values into Bayes' theorem:\n",
    "\n",
    "P(B|A) = P(A|B) * P(B) / P(A)\n",
    "P(B|A) = 0.40 * 0.4 / 0.70\n",
    "P(B|A) = 0.229\n",
    "\n",
    "Therefore, the probability that an employee is a smoker given that he/she uses the health insurance plan is 0.229 or approximately 22.9%."
   ]
  },
  {
   "cell_type": "markdown",
   "id": "5f418581-f8d8-480c-ac91-cf0d7c8e089c",
   "metadata": {},
   "source": [
    "#### Q2. What is the difference between Bernoulli Naive Bayes and Multinomial Naive Bayes?"
   ]
  },
  {
   "cell_type": "code",
   "execution_count": null,
   "id": "c43ed667-fbb9-4fd5-be39-18f46c17b8a6",
   "metadata": {},
   "outputs": [],
   "source": [
    "Ans-\n",
    "\n",
    "Bernoulli Naive Bayes and Multinomial Naive Bayes are two variants of the Naive Bayes algorithm used in machine learning for classification problems.\n",
    "\n",
    "The main difference between them lies in the type of data they are designed to handle.\n",
    "\n",
    "Bernoulli Naive Bayes is used when the input variables (features) are binary (i.e., have two possible values), such as presence or absence of a certain feature.\n",
    "It assumes that each feature is independent of the others, and the probability of the output (class) given the features can be computed using the product of the conditional probabilities of each feature.\n",
    "\n",
    "On the other hand, Multinomial Naive Bayes is used when the input variables are discrete counts (i.e., integer values), such as the frequency of occurrence of certain words in a document.\n",
    "It also assumes that the features are independent, but instead of computing the product of conditional probabilities, it computes the joint probability of all the features given the class.\n",
    "\n",
    "In summary, Bernoulli Naive Bayes is suitable for binary data, while Multinomial Naive Bayes is suitable for discrete count data.\n",
    "However, both algorithms share the same underlying principle of using Bayes' theorem to calculate the probability of the class given the features, and both make the Naive Bayes assumption of feature independence."
   ]
  },
  {
   "cell_type": "markdown",
   "id": "94ace59e-ae97-4905-b052-78d2505ba612",
   "metadata": {},
   "source": [
    "#### Q3. How does Bernoulli Naive Bayes handle missing values?"
   ]
  },
  {
   "cell_type": "code",
   "execution_count": null,
   "id": "9fcc8fe9-0d5b-4b5d-872c-e4199b14e35f",
   "metadata": {},
   "outputs": [],
   "source": [
    "Ans-\n",
    "\n",
    "Bernoulli Naive Bayes assumes that each feature is binary (i.e., has two possible values) and independent of the other features.\n",
    "If a feature is missing for a particular data point, it is typically represented as a third category (neither 0 nor 1) or simply omitted from the computation.\n",
    "\n",
    "In the case of missing values, one common approach is to impute the missing values with a default value, such as the mode (most common value) of the feature across the available data points. \n",
    "Another approach is to use a more advanced imputation method, such as k-nearest neighbors or matrix completion, to estimate the missing values based on the available data.\n",
    "\n",
    "However, imputing missing values can introduce bias into the model and may not always improve performance.\n",
    "Another approach is to use a modified version of the Bernoulli Naive Bayes algorithm that can handle missing values directly, such as the \"Augmented Bernoulli Naive Bayes\" or \"BN2\" algorithm. \n",
    "This algorithm treats the missing values as an additional category and learns separate parameters for the presence and absence of each feature, as well as for the missing values.\n",
    "This allows the model to handle missing values without introducing bias or distorting the probability estimates."
   ]
  },
  {
   "cell_type": "markdown",
   "id": "c3c106c7-cd59-4805-99d4-17baeaecff56",
   "metadata": {},
   "source": [
    "#### Q4. Can Gaussian Naive Bayes be used for multi-class classification?"
   ]
  },
  {
   "cell_type": "code",
   "execution_count": null,
   "id": "cbca827d-2d0a-4416-a0d4-10a0d66cdb75",
   "metadata": {},
   "outputs": [],
   "source": [
    "Ans-\n",
    "\n",
    "Yes, Gaussian Naive Bayes can be used for multi-class classification.\n",
    "\n",
    "In the case of multi-class classification, Gaussian Naive Bayes assumes that the features follow a Gaussian (normal) distribution for each class.\n",
    "For each class, it estimates the mean and variance of the features and uses them to compute the probability of each class given the features.\n",
    "The class with the highest probability is then chosen as the predicted class.\n",
    "\n",
    "There are different approaches to handle multi-class classification with Gaussian Naive Bayes. \n",
    "One common approach is to use the \"one-vs-all\" (or \"one-vs-rest\") strategy, where the classifier trains one binary classifier for each class, treating all the other classes as a single \"rest\" class. \n",
    "Alternatively, a \"one-vs-one\" strategy can be used, where the classifier trains a binary classifier for each pair of classes and uses a voting scheme to determine the predicted class.\n",
    "\n",
    "Overall, Gaussian Naive Bayes can be a useful algorithm for multi-class classification problems, particularly when the number of features is relatively small and they are not strongly correlated with each other."
   ]
  },
  {
   "cell_type": "code",
   "execution_count": null,
   "id": "00cd3c29-5f63-4944-a14b-7c7ad5deea1b",
   "metadata": {},
   "outputs": [],
   "source": [
    "Q5. Assignment:\n",
    "\n",
    "Data preparation:\n",
    "Download the \"Spambase Data Set\" from the UCI Machine Learning Repository (https://archive.ics.uci.edu/ml/\n",
    "datasets/Spambase). This dataset contains email messages, where the goal is to predict whether a message\n",
    "is spam or not based on several input features.\n",
    "\n",
    "Implementation:\n",
    "Implement Bernoulli Naive Bayes, Multinomial Naive Bayes, and Gaussian Naive Bayes classifiers using the\n",
    "scikit-learn library in Python. Use 10-fold cross-validation to evaluate the performance of each classifier on the\n",
    "dataset. You should use the default hyperparameters for each classifier.\n",
    "\n",
    "Results:\n",
    "Report the following performance metrics for each classifier:\n",
    "Accuracy\n",
    "Precision\n",
    "Recall\n",
    "F1 score\n",
    "\n",
    "Discussion:\n",
    "Discuss the results you obtained. Which variant of Naive Bayes performed the best? Why do you think that is\n",
    "the case? Are there any limitations of Naive Bayes that you observed?\n",
    "\n",
    "Conclusion:\n",
    "Summarise your findings and provide some suggestions for future work."
   ]
  },
  {
   "cell_type": "code",
   "execution_count": 1,
   "id": "428a70bc-cd5c-46a8-85f8-05ca14646463",
   "metadata": {},
   "outputs": [],
   "source": [
    "#Ans-\n",
    "\n",
    "import pandas as pd\n",
    "data=pd.read_csv('spambase.data',header=None)\n",
    "data.rename(columns={57:'is_spam'}, inplace=True)"
   ]
  },
  {
   "cell_type": "code",
   "execution_count": 2,
   "id": "681cedab-10e7-4d12-b128-4bb02a2c8719",
   "metadata": {},
   "outputs": [
    {
     "data": {
      "text/html": [
       "<div>\n",
       "<style scoped>\n",
       "    .dataframe tbody tr th:only-of-type {\n",
       "        vertical-align: middle;\n",
       "    }\n",
       "\n",
       "    .dataframe tbody tr th {\n",
       "        vertical-align: top;\n",
       "    }\n",
       "\n",
       "    .dataframe thead th {\n",
       "        text-align: right;\n",
       "    }\n",
       "</style>\n",
       "<table border=\"1\" class=\"dataframe\">\n",
       "  <thead>\n",
       "    <tr style=\"text-align: right;\">\n",
       "      <th></th>\n",
       "      <th>0</th>\n",
       "      <th>1</th>\n",
       "      <th>2</th>\n",
       "      <th>3</th>\n",
       "      <th>4</th>\n",
       "      <th>5</th>\n",
       "      <th>6</th>\n",
       "      <th>7</th>\n",
       "      <th>8</th>\n",
       "      <th>9</th>\n",
       "      <th>...</th>\n",
       "      <th>48</th>\n",
       "      <th>49</th>\n",
       "      <th>50</th>\n",
       "      <th>51</th>\n",
       "      <th>52</th>\n",
       "      <th>53</th>\n",
       "      <th>54</th>\n",
       "      <th>55</th>\n",
       "      <th>56</th>\n",
       "      <th>is_spam</th>\n",
       "    </tr>\n",
       "  </thead>\n",
       "  <tbody>\n",
       "    <tr>\n",
       "      <th>0</th>\n",
       "      <td>0.00</td>\n",
       "      <td>0.64</td>\n",
       "      <td>0.64</td>\n",
       "      <td>0.0</td>\n",
       "      <td>0.32</td>\n",
       "      <td>0.00</td>\n",
       "      <td>0.00</td>\n",
       "      <td>0.00</td>\n",
       "      <td>0.00</td>\n",
       "      <td>0.00</td>\n",
       "      <td>...</td>\n",
       "      <td>0.00</td>\n",
       "      <td>0.000</td>\n",
       "      <td>0.0</td>\n",
       "      <td>0.778</td>\n",
       "      <td>0.000</td>\n",
       "      <td>0.000</td>\n",
       "      <td>3.756</td>\n",
       "      <td>61</td>\n",
       "      <td>278</td>\n",
       "      <td>1</td>\n",
       "    </tr>\n",
       "    <tr>\n",
       "      <th>1</th>\n",
       "      <td>0.21</td>\n",
       "      <td>0.28</td>\n",
       "      <td>0.50</td>\n",
       "      <td>0.0</td>\n",
       "      <td>0.14</td>\n",
       "      <td>0.28</td>\n",
       "      <td>0.21</td>\n",
       "      <td>0.07</td>\n",
       "      <td>0.00</td>\n",
       "      <td>0.94</td>\n",
       "      <td>...</td>\n",
       "      <td>0.00</td>\n",
       "      <td>0.132</td>\n",
       "      <td>0.0</td>\n",
       "      <td>0.372</td>\n",
       "      <td>0.180</td>\n",
       "      <td>0.048</td>\n",
       "      <td>5.114</td>\n",
       "      <td>101</td>\n",
       "      <td>1028</td>\n",
       "      <td>1</td>\n",
       "    </tr>\n",
       "    <tr>\n",
       "      <th>2</th>\n",
       "      <td>0.06</td>\n",
       "      <td>0.00</td>\n",
       "      <td>0.71</td>\n",
       "      <td>0.0</td>\n",
       "      <td>1.23</td>\n",
       "      <td>0.19</td>\n",
       "      <td>0.19</td>\n",
       "      <td>0.12</td>\n",
       "      <td>0.64</td>\n",
       "      <td>0.25</td>\n",
       "      <td>...</td>\n",
       "      <td>0.01</td>\n",
       "      <td>0.143</td>\n",
       "      <td>0.0</td>\n",
       "      <td>0.276</td>\n",
       "      <td>0.184</td>\n",
       "      <td>0.010</td>\n",
       "      <td>9.821</td>\n",
       "      <td>485</td>\n",
       "      <td>2259</td>\n",
       "      <td>1</td>\n",
       "    </tr>\n",
       "    <tr>\n",
       "      <th>3</th>\n",
       "      <td>0.00</td>\n",
       "      <td>0.00</td>\n",
       "      <td>0.00</td>\n",
       "      <td>0.0</td>\n",
       "      <td>0.63</td>\n",
       "      <td>0.00</td>\n",
       "      <td>0.31</td>\n",
       "      <td>0.63</td>\n",
       "      <td>0.31</td>\n",
       "      <td>0.63</td>\n",
       "      <td>...</td>\n",
       "      <td>0.00</td>\n",
       "      <td>0.137</td>\n",
       "      <td>0.0</td>\n",
       "      <td>0.137</td>\n",
       "      <td>0.000</td>\n",
       "      <td>0.000</td>\n",
       "      <td>3.537</td>\n",
       "      <td>40</td>\n",
       "      <td>191</td>\n",
       "      <td>1</td>\n",
       "    </tr>\n",
       "    <tr>\n",
       "      <th>4</th>\n",
       "      <td>0.00</td>\n",
       "      <td>0.00</td>\n",
       "      <td>0.00</td>\n",
       "      <td>0.0</td>\n",
       "      <td>0.63</td>\n",
       "      <td>0.00</td>\n",
       "      <td>0.31</td>\n",
       "      <td>0.63</td>\n",
       "      <td>0.31</td>\n",
       "      <td>0.63</td>\n",
       "      <td>...</td>\n",
       "      <td>0.00</td>\n",
       "      <td>0.135</td>\n",
       "      <td>0.0</td>\n",
       "      <td>0.135</td>\n",
       "      <td>0.000</td>\n",
       "      <td>0.000</td>\n",
       "      <td>3.537</td>\n",
       "      <td>40</td>\n",
       "      <td>191</td>\n",
       "      <td>1</td>\n",
       "    </tr>\n",
       "  </tbody>\n",
       "</table>\n",
       "<p>5 rows × 58 columns</p>\n",
       "</div>"
      ],
      "text/plain": [
       "      0     1     2    3     4     5     6     7     8     9  ...    48  \\\n",
       "0  0.00  0.64  0.64  0.0  0.32  0.00  0.00  0.00  0.00  0.00  ...  0.00   \n",
       "1  0.21  0.28  0.50  0.0  0.14  0.28  0.21  0.07  0.00  0.94  ...  0.00   \n",
       "2  0.06  0.00  0.71  0.0  1.23  0.19  0.19  0.12  0.64  0.25  ...  0.01   \n",
       "3  0.00  0.00  0.00  0.0  0.63  0.00  0.31  0.63  0.31  0.63  ...  0.00   \n",
       "4  0.00  0.00  0.00  0.0  0.63  0.00  0.31  0.63  0.31  0.63  ...  0.00   \n",
       "\n",
       "      49   50     51     52     53     54   55    56  is_spam  \n",
       "0  0.000  0.0  0.778  0.000  0.000  3.756   61   278        1  \n",
       "1  0.132  0.0  0.372  0.180  0.048  5.114  101  1028        1  \n",
       "2  0.143  0.0  0.276  0.184  0.010  9.821  485  2259        1  \n",
       "3  0.137  0.0  0.137  0.000  0.000  3.537   40   191        1  \n",
       "4  0.135  0.0  0.135  0.000  0.000  3.537   40   191        1  \n",
       "\n",
       "[5 rows x 58 columns]"
      ]
     },
     "execution_count": 2,
     "metadata": {},
     "output_type": "execute_result"
    }
   ],
   "source": [
    "data.head()"
   ]
  },
  {
   "cell_type": "code",
   "execution_count": 9,
   "id": "695d3e04-5f5d-4096-8494-263c70d0ef77",
   "metadata": {},
   "outputs": [],
   "source": [
    "#splitting data\n",
    "\n",
    "x=data.iloc[:,:-1]\n",
    "y=data.iloc[:,-1]"
   ]
  },
  {
   "cell_type": "code",
   "execution_count": 11,
   "id": "63f867c8-9fae-44f0-9812-e02c5131b438",
   "metadata": {},
   "outputs": [],
   "source": [
    "from sklearn.model_selection import train_test_split\n",
    "from sklearn.metrics import accuracy_score,recall_score,precision_score,f1_score\n",
    "from sklearn.naive_bayes import BernoulliNB,MultinomialNB,GaussianNB"
   ]
  },
  {
   "cell_type": "code",
   "execution_count": 12,
   "id": "6a4e2e01-b776-408b-9a57-6f5af55409fe",
   "metadata": {},
   "outputs": [],
   "source": [
    "x_train,x_test,y_train,y_test=train_test_split(x,y,test_size=0.33, random_state=42)"
   ]
  },
  {
   "cell_type": "code",
   "execution_count": 13,
   "id": "d5190380-b539-4b29-b503-48a10190e3c7",
   "metadata": {},
   "outputs": [
    {
     "data": {
      "text/html": [
       "<style>#sk-container-id-1 {color: black;background-color: white;}#sk-container-id-1 pre{padding: 0;}#sk-container-id-1 div.sk-toggleable {background-color: white;}#sk-container-id-1 label.sk-toggleable__label {cursor: pointer;display: block;width: 100%;margin-bottom: 0;padding: 0.3em;box-sizing: border-box;text-align: center;}#sk-container-id-1 label.sk-toggleable__label-arrow:before {content: \"▸\";float: left;margin-right: 0.25em;color: #696969;}#sk-container-id-1 label.sk-toggleable__label-arrow:hover:before {color: black;}#sk-container-id-1 div.sk-estimator:hover label.sk-toggleable__label-arrow:before {color: black;}#sk-container-id-1 div.sk-toggleable__content {max-height: 0;max-width: 0;overflow: hidden;text-align: left;background-color: #f0f8ff;}#sk-container-id-1 div.sk-toggleable__content pre {margin: 0.2em;color: black;border-radius: 0.25em;background-color: #f0f8ff;}#sk-container-id-1 input.sk-toggleable__control:checked~div.sk-toggleable__content {max-height: 200px;max-width: 100%;overflow: auto;}#sk-container-id-1 input.sk-toggleable__control:checked~label.sk-toggleable__label-arrow:before {content: \"▾\";}#sk-container-id-1 div.sk-estimator input.sk-toggleable__control:checked~label.sk-toggleable__label {background-color: #d4ebff;}#sk-container-id-1 div.sk-label input.sk-toggleable__control:checked~label.sk-toggleable__label {background-color: #d4ebff;}#sk-container-id-1 input.sk-hidden--visually {border: 0;clip: rect(1px 1px 1px 1px);clip: rect(1px, 1px, 1px, 1px);height: 1px;margin: -1px;overflow: hidden;padding: 0;position: absolute;width: 1px;}#sk-container-id-1 div.sk-estimator {font-family: monospace;background-color: #f0f8ff;border: 1px dotted black;border-radius: 0.25em;box-sizing: border-box;margin-bottom: 0.5em;}#sk-container-id-1 div.sk-estimator:hover {background-color: #d4ebff;}#sk-container-id-1 div.sk-parallel-item::after {content: \"\";width: 100%;border-bottom: 1px solid gray;flex-grow: 1;}#sk-container-id-1 div.sk-label:hover label.sk-toggleable__label {background-color: #d4ebff;}#sk-container-id-1 div.sk-serial::before {content: \"\";position: absolute;border-left: 1px solid gray;box-sizing: border-box;top: 0;bottom: 0;left: 50%;z-index: 0;}#sk-container-id-1 div.sk-serial {display: flex;flex-direction: column;align-items: center;background-color: white;padding-right: 0.2em;padding-left: 0.2em;position: relative;}#sk-container-id-1 div.sk-item {position: relative;z-index: 1;}#sk-container-id-1 div.sk-parallel {display: flex;align-items: stretch;justify-content: center;background-color: white;position: relative;}#sk-container-id-1 div.sk-item::before, #sk-container-id-1 div.sk-parallel-item::before {content: \"\";position: absolute;border-left: 1px solid gray;box-sizing: border-box;top: 0;bottom: 0;left: 50%;z-index: -1;}#sk-container-id-1 div.sk-parallel-item {display: flex;flex-direction: column;z-index: 1;position: relative;background-color: white;}#sk-container-id-1 div.sk-parallel-item:first-child::after {align-self: flex-end;width: 50%;}#sk-container-id-1 div.sk-parallel-item:last-child::after {align-self: flex-start;width: 50%;}#sk-container-id-1 div.sk-parallel-item:only-child::after {width: 0;}#sk-container-id-1 div.sk-dashed-wrapped {border: 1px dashed gray;margin: 0 0.4em 0.5em 0.4em;box-sizing: border-box;padding-bottom: 0.4em;background-color: white;}#sk-container-id-1 div.sk-label label {font-family: monospace;font-weight: bold;display: inline-block;line-height: 1.2em;}#sk-container-id-1 div.sk-label-container {text-align: center;}#sk-container-id-1 div.sk-container {/* jupyter's `normalize.less` sets `[hidden] { display: none; }` but bootstrap.min.css set `[hidden] { display: none !important; }` so we also need the `!important` here to be able to override the default hidden behavior on the sphinx rendered scikit-learn.org. See: https://github.com/scikit-learn/scikit-learn/issues/21755 */display: inline-block !important;position: relative;}#sk-container-id-1 div.sk-text-repr-fallback {display: none;}</style><div id=\"sk-container-id-1\" class=\"sk-top-container\"><div class=\"sk-text-repr-fallback\"><pre>BernoulliNB()</pre><b>In a Jupyter environment, please rerun this cell to show the HTML representation or trust the notebook. <br />On GitHub, the HTML representation is unable to render, please try loading this page with nbviewer.org.</b></div><div class=\"sk-container\" hidden><div class=\"sk-item\"><div class=\"sk-estimator sk-toggleable\"><input class=\"sk-toggleable__control sk-hidden--visually\" id=\"sk-estimator-id-1\" type=\"checkbox\" checked><label for=\"sk-estimator-id-1\" class=\"sk-toggleable__label sk-toggleable__label-arrow\">BernoulliNB</label><div class=\"sk-toggleable__content\"><pre>BernoulliNB()</pre></div></div></div></div></div>"
      ],
      "text/plain": [
       "BernoulliNB()"
      ]
     },
     "execution_count": 13,
     "metadata": {},
     "output_type": "execute_result"
    }
   ],
   "source": [
    "#BernouliNB\n",
    "\n",
    "bnb=BernoulliNB()\n",
    "bnb.fit(x_train,y_train)"
   ]
  },
  {
   "cell_type": "code",
   "execution_count": 15,
   "id": "910e2916-6d63-453e-a760-37c359f7228d",
   "metadata": {},
   "outputs": [],
   "source": [
    "bnb_preds=bnb.predict(x_test)"
   ]
  },
  {
   "cell_type": "code",
   "execution_count": 16,
   "id": "375b239e-2068-4443-8e64-2403d185a8e8",
   "metadata": {},
   "outputs": [
    {
     "name": "stdout",
     "output_type": "stream",
     "text": [
      "Bernoulli Naive Bayes Accuracy:  0.8821593153390388\n",
      "Bernoulli Naive Bayes Precision:  0.8927335640138409\n",
      "Bernoulli Naive Bayes Recall:  0.8151658767772512\n",
      "Bernoulli Naive Bayes F1 Score:  0.8521882741535921\n"
     ]
    }
   ],
   "source": [
    "# Compute the evaluation metrics\n",
    "bnb_accuracy = accuracy_score(y_test, bnb_preds)\n",
    "bnb_precision = precision_score(y_test, bnb_preds)\n",
    "bnb_recall = recall_score(y_test, bnb_preds)\n",
    "bnb_f1 = f1_score(y_test, bnb_preds)\n",
    "\n",
    "# Print the evaluation metrics\n",
    "print(\"Bernoulli Naive Bayes Accuracy: \", bnb_accuracy)\n",
    "print(\"Bernoulli Naive Bayes Precision: \", bnb_precision)\n",
    "print(\"Bernoulli Naive Bayes Recall: \", bnb_recall)\n",
    "print(\"Bernoulli Naive Bayes F1 Score: \", bnb_f1)"
   ]
  },
  {
   "cell_type": "code",
   "execution_count": 17,
   "id": "7534610c-438a-495c-8919-c73e232c50e0",
   "metadata": {},
   "outputs": [
    {
     "data": {
      "text/html": [
       "<style>#sk-container-id-2 {color: black;background-color: white;}#sk-container-id-2 pre{padding: 0;}#sk-container-id-2 div.sk-toggleable {background-color: white;}#sk-container-id-2 label.sk-toggleable__label {cursor: pointer;display: block;width: 100%;margin-bottom: 0;padding: 0.3em;box-sizing: border-box;text-align: center;}#sk-container-id-2 label.sk-toggleable__label-arrow:before {content: \"▸\";float: left;margin-right: 0.25em;color: #696969;}#sk-container-id-2 label.sk-toggleable__label-arrow:hover:before {color: black;}#sk-container-id-2 div.sk-estimator:hover label.sk-toggleable__label-arrow:before {color: black;}#sk-container-id-2 div.sk-toggleable__content {max-height: 0;max-width: 0;overflow: hidden;text-align: left;background-color: #f0f8ff;}#sk-container-id-2 div.sk-toggleable__content pre {margin: 0.2em;color: black;border-radius: 0.25em;background-color: #f0f8ff;}#sk-container-id-2 input.sk-toggleable__control:checked~div.sk-toggleable__content {max-height: 200px;max-width: 100%;overflow: auto;}#sk-container-id-2 input.sk-toggleable__control:checked~label.sk-toggleable__label-arrow:before {content: \"▾\";}#sk-container-id-2 div.sk-estimator input.sk-toggleable__control:checked~label.sk-toggleable__label {background-color: #d4ebff;}#sk-container-id-2 div.sk-label input.sk-toggleable__control:checked~label.sk-toggleable__label {background-color: #d4ebff;}#sk-container-id-2 input.sk-hidden--visually {border: 0;clip: rect(1px 1px 1px 1px);clip: rect(1px, 1px, 1px, 1px);height: 1px;margin: -1px;overflow: hidden;padding: 0;position: absolute;width: 1px;}#sk-container-id-2 div.sk-estimator {font-family: monospace;background-color: #f0f8ff;border: 1px dotted black;border-radius: 0.25em;box-sizing: border-box;margin-bottom: 0.5em;}#sk-container-id-2 div.sk-estimator:hover {background-color: #d4ebff;}#sk-container-id-2 div.sk-parallel-item::after {content: \"\";width: 100%;border-bottom: 1px solid gray;flex-grow: 1;}#sk-container-id-2 div.sk-label:hover label.sk-toggleable__label {background-color: #d4ebff;}#sk-container-id-2 div.sk-serial::before {content: \"\";position: absolute;border-left: 1px solid gray;box-sizing: border-box;top: 0;bottom: 0;left: 50%;z-index: 0;}#sk-container-id-2 div.sk-serial {display: flex;flex-direction: column;align-items: center;background-color: white;padding-right: 0.2em;padding-left: 0.2em;position: relative;}#sk-container-id-2 div.sk-item {position: relative;z-index: 1;}#sk-container-id-2 div.sk-parallel {display: flex;align-items: stretch;justify-content: center;background-color: white;position: relative;}#sk-container-id-2 div.sk-item::before, #sk-container-id-2 div.sk-parallel-item::before {content: \"\";position: absolute;border-left: 1px solid gray;box-sizing: border-box;top: 0;bottom: 0;left: 50%;z-index: -1;}#sk-container-id-2 div.sk-parallel-item {display: flex;flex-direction: column;z-index: 1;position: relative;background-color: white;}#sk-container-id-2 div.sk-parallel-item:first-child::after {align-self: flex-end;width: 50%;}#sk-container-id-2 div.sk-parallel-item:last-child::after {align-self: flex-start;width: 50%;}#sk-container-id-2 div.sk-parallel-item:only-child::after {width: 0;}#sk-container-id-2 div.sk-dashed-wrapped {border: 1px dashed gray;margin: 0 0.4em 0.5em 0.4em;box-sizing: border-box;padding-bottom: 0.4em;background-color: white;}#sk-container-id-2 div.sk-label label {font-family: monospace;font-weight: bold;display: inline-block;line-height: 1.2em;}#sk-container-id-2 div.sk-label-container {text-align: center;}#sk-container-id-2 div.sk-container {/* jupyter's `normalize.less` sets `[hidden] { display: none; }` but bootstrap.min.css set `[hidden] { display: none !important; }` so we also need the `!important` here to be able to override the default hidden behavior on the sphinx rendered scikit-learn.org. See: https://github.com/scikit-learn/scikit-learn/issues/21755 */display: inline-block !important;position: relative;}#sk-container-id-2 div.sk-text-repr-fallback {display: none;}</style><div id=\"sk-container-id-2\" class=\"sk-top-container\"><div class=\"sk-text-repr-fallback\"><pre>MultinomialNB()</pre><b>In a Jupyter environment, please rerun this cell to show the HTML representation or trust the notebook. <br />On GitHub, the HTML representation is unable to render, please try loading this page with nbviewer.org.</b></div><div class=\"sk-container\" hidden><div class=\"sk-item\"><div class=\"sk-estimator sk-toggleable\"><input class=\"sk-toggleable__control sk-hidden--visually\" id=\"sk-estimator-id-2\" type=\"checkbox\" checked><label for=\"sk-estimator-id-2\" class=\"sk-toggleable__label sk-toggleable__label-arrow\">MultinomialNB</label><div class=\"sk-toggleable__content\"><pre>MultinomialNB()</pre></div></div></div></div></div>"
      ],
      "text/plain": [
       "MultinomialNB()"
      ]
     },
     "execution_count": 17,
     "metadata": {},
     "output_type": "execute_result"
    }
   ],
   "source": [
    "#MultinomialNB\n",
    "\n",
    "mnb=MultinomialNB()\n",
    "mnb.fit(x_train,y_train)"
   ]
  },
  {
   "cell_type": "code",
   "execution_count": 18,
   "id": "837fa62c-5cca-49e7-b546-e7709db3f5fb",
   "metadata": {},
   "outputs": [],
   "source": [
    "mnb_preds=mnb.predict(x_test)"
   ]
  },
  {
   "cell_type": "code",
   "execution_count": 19,
   "id": "e0227c91-1c7e-4bdb-9e0c-9dc901cea46d",
   "metadata": {},
   "outputs": [
    {
     "name": "stdout",
     "output_type": "stream",
     "text": [
      "Multinomial Naive Bayes Accuracy:  0.7853851217906518\n",
      "Multinomial Naive Bayes Precision:  0.7688266199649737\n",
      "Multinomial Naive Bayes Recall:  0.693522906793049\n",
      "Multinomial Naive Bayes F1 Score:  0.7292358803986712\n"
     ]
    }
   ],
   "source": [
    "# Compute the evaluation metrics\n",
    "mnb_accuracy = accuracy_score(y_test, mnb_preds)\n",
    "mnb_precision = precision_score(y_test, mnb_preds)\n",
    "mnb_recall = recall_score(y_test, mnb_preds)\n",
    "mnb_f1 = f1_score(y_test, mnb_preds)\n",
    "\n",
    "# Print the evaluation metrics\n",
    "print(\"Multinomial Naive Bayes Accuracy: \", mnb_accuracy)\n",
    "print(\"Multinomial Naive Bayes Precision: \", mnb_precision)\n",
    "print(\"Multinomial Naive Bayes Recall: \", mnb_recall)\n",
    "print(\"Multinomial Naive Bayes F1 Score: \", mnb_f1)"
   ]
  },
  {
   "cell_type": "code",
   "execution_count": 20,
   "id": "9026222e-fb68-4421-bfde-f575a961002c",
   "metadata": {},
   "outputs": [
    {
     "data": {
      "text/html": [
       "<style>#sk-container-id-3 {color: black;background-color: white;}#sk-container-id-3 pre{padding: 0;}#sk-container-id-3 div.sk-toggleable {background-color: white;}#sk-container-id-3 label.sk-toggleable__label {cursor: pointer;display: block;width: 100%;margin-bottom: 0;padding: 0.3em;box-sizing: border-box;text-align: center;}#sk-container-id-3 label.sk-toggleable__label-arrow:before {content: \"▸\";float: left;margin-right: 0.25em;color: #696969;}#sk-container-id-3 label.sk-toggleable__label-arrow:hover:before {color: black;}#sk-container-id-3 div.sk-estimator:hover label.sk-toggleable__label-arrow:before {color: black;}#sk-container-id-3 div.sk-toggleable__content {max-height: 0;max-width: 0;overflow: hidden;text-align: left;background-color: #f0f8ff;}#sk-container-id-3 div.sk-toggleable__content pre {margin: 0.2em;color: black;border-radius: 0.25em;background-color: #f0f8ff;}#sk-container-id-3 input.sk-toggleable__control:checked~div.sk-toggleable__content {max-height: 200px;max-width: 100%;overflow: auto;}#sk-container-id-3 input.sk-toggleable__control:checked~label.sk-toggleable__label-arrow:before {content: \"▾\";}#sk-container-id-3 div.sk-estimator input.sk-toggleable__control:checked~label.sk-toggleable__label {background-color: #d4ebff;}#sk-container-id-3 div.sk-label input.sk-toggleable__control:checked~label.sk-toggleable__label {background-color: #d4ebff;}#sk-container-id-3 input.sk-hidden--visually {border: 0;clip: rect(1px 1px 1px 1px);clip: rect(1px, 1px, 1px, 1px);height: 1px;margin: -1px;overflow: hidden;padding: 0;position: absolute;width: 1px;}#sk-container-id-3 div.sk-estimator {font-family: monospace;background-color: #f0f8ff;border: 1px dotted black;border-radius: 0.25em;box-sizing: border-box;margin-bottom: 0.5em;}#sk-container-id-3 div.sk-estimator:hover {background-color: #d4ebff;}#sk-container-id-3 div.sk-parallel-item::after {content: \"\";width: 100%;border-bottom: 1px solid gray;flex-grow: 1;}#sk-container-id-3 div.sk-label:hover label.sk-toggleable__label {background-color: #d4ebff;}#sk-container-id-3 div.sk-serial::before {content: \"\";position: absolute;border-left: 1px solid gray;box-sizing: border-box;top: 0;bottom: 0;left: 50%;z-index: 0;}#sk-container-id-3 div.sk-serial {display: flex;flex-direction: column;align-items: center;background-color: white;padding-right: 0.2em;padding-left: 0.2em;position: relative;}#sk-container-id-3 div.sk-item {position: relative;z-index: 1;}#sk-container-id-3 div.sk-parallel {display: flex;align-items: stretch;justify-content: center;background-color: white;position: relative;}#sk-container-id-3 div.sk-item::before, #sk-container-id-3 div.sk-parallel-item::before {content: \"\";position: absolute;border-left: 1px solid gray;box-sizing: border-box;top: 0;bottom: 0;left: 50%;z-index: -1;}#sk-container-id-3 div.sk-parallel-item {display: flex;flex-direction: column;z-index: 1;position: relative;background-color: white;}#sk-container-id-3 div.sk-parallel-item:first-child::after {align-self: flex-end;width: 50%;}#sk-container-id-3 div.sk-parallel-item:last-child::after {align-self: flex-start;width: 50%;}#sk-container-id-3 div.sk-parallel-item:only-child::after {width: 0;}#sk-container-id-3 div.sk-dashed-wrapped {border: 1px dashed gray;margin: 0 0.4em 0.5em 0.4em;box-sizing: border-box;padding-bottom: 0.4em;background-color: white;}#sk-container-id-3 div.sk-label label {font-family: monospace;font-weight: bold;display: inline-block;line-height: 1.2em;}#sk-container-id-3 div.sk-label-container {text-align: center;}#sk-container-id-3 div.sk-container {/* jupyter's `normalize.less` sets `[hidden] { display: none; }` but bootstrap.min.css set `[hidden] { display: none !important; }` so we also need the `!important` here to be able to override the default hidden behavior on the sphinx rendered scikit-learn.org. See: https://github.com/scikit-learn/scikit-learn/issues/21755 */display: inline-block !important;position: relative;}#sk-container-id-3 div.sk-text-repr-fallback {display: none;}</style><div id=\"sk-container-id-3\" class=\"sk-top-container\"><div class=\"sk-text-repr-fallback\"><pre>GaussianNB()</pre><b>In a Jupyter environment, please rerun this cell to show the HTML representation or trust the notebook. <br />On GitHub, the HTML representation is unable to render, please try loading this page with nbviewer.org.</b></div><div class=\"sk-container\" hidden><div class=\"sk-item\"><div class=\"sk-estimator sk-toggleable\"><input class=\"sk-toggleable__control sk-hidden--visually\" id=\"sk-estimator-id-3\" type=\"checkbox\" checked><label for=\"sk-estimator-id-3\" class=\"sk-toggleable__label sk-toggleable__label-arrow\">GaussianNB</label><div class=\"sk-toggleable__content\"><pre>GaussianNB()</pre></div></div></div></div></div>"
      ],
      "text/plain": [
       "GaussianNB()"
      ]
     },
     "execution_count": 20,
     "metadata": {},
     "output_type": "execute_result"
    }
   ],
   "source": [
    "#Gaussian NB\n",
    "\n",
    "gnb=GaussianNB()\n",
    "gnb.fit(x_train,y_train)"
   ]
  },
  {
   "cell_type": "code",
   "execution_count": 21,
   "id": "c855c670-4db0-4fba-8619-b4212a5cd12b",
   "metadata": {},
   "outputs": [],
   "source": [
    "gnb_preds=gnb.predict(x_test)"
   ]
  },
  {
   "cell_type": "code",
   "execution_count": 22,
   "id": "5b600511-66cf-4389-a7d3-b4686cedf6e4",
   "metadata": {},
   "outputs": [
    {
     "name": "stdout",
     "output_type": "stream",
     "text": [
      "Gaussian Naive Bayes Accuracy:  0.8229098090849243\n",
      "Gaussian Naive Bayes Precision:  0.7171837708830548\n",
      "Gaussian Naive Bayes Recall:  0.9494470774091627\n",
      "Gaussian Naive Bayes F1 Score:  0.8171312032630863\n"
     ]
    }
   ],
   "source": [
    "# Compute the evaluation metrics\n",
    "gnb_accuracy = accuracy_score(y_test, gnb_preds)\n",
    "gnb_precision = precision_score(y_test, gnb_preds)\n",
    "gnb_recall = recall_score(y_test, gnb_preds)\n",
    "gnb_f1 = f1_score(y_test, gnb_preds)\n",
    "\n",
    "# Print the evaluation metrics\n",
    "print(\"Gaussian Naive Bayes Accuracy: \", gnb_accuracy)\n",
    "print(\"Gaussian Naive Bayes Precision: \", gnb_precision)\n",
    "print(\"Gaussian Naive Bayes Recall: \", gnb_recall)\n",
    "print(\"Gaussian Naive Bayes F1 Score: \", gnb_f1)\n"
   ]
  },
  {
   "cell_type": "markdown",
   "id": "5e184af9-265e-4676-8ad9-3a04ac08ca7a",
   "metadata": {},
   "source": [
    "## Comaparison"
   ]
  },
  {
   "cell_type": "code",
   "execution_count": 27,
   "id": "56994dfa-47d3-40e2-ba7b-6b4b12b24ffc",
   "metadata": {},
   "outputs": [
    {
     "name": "stdout",
     "output_type": "stream",
     "text": [
      "Bernoulli NB Performance\n",
      "Bernoulli Naive Bayes Accuracy:  0.8821593153390388\n",
      "Bernoulli Naive Bayes Precision:  0.8927335640138409\n",
      "Bernoulli Naive Bayes Recall:  0.8151658767772512\n",
      "Bernoulli Naive Bayes F1 Score:  0.8521882741535921 \n",
      "\n",
      "Multinomial NB Performance\n",
      "Multinomial Naive Bayes Accuracy:  0.7853851217906518\n",
      "Multinomial Naive Bayes Precision:  0.7688266199649737\n",
      "Multinomial Naive Bayes Recall:  0.693522906793049\n",
      "Multinomial Naive Bayes F1 Score:  0.7292358803986712 \n",
      "\n",
      "Gaussian NB Performance\n",
      "Gaussian Naive Bayes Accuracy:  0.8229098090849243\n",
      "Gaussian Naive Bayes Precision:  0.7171837708830548\n",
      "Gaussian Naive Bayes Recall:  0.9494470774091627\n",
      "Gaussian Naive Bayes F1 Score:  0.8171312032630863 \n",
      "\n"
     ]
    }
   ],
   "source": [
    "print(\"Bernoulli NB Performance\")\n",
    "print(\"Bernoulli Naive Bayes Accuracy: \", bnb_accuracy)\n",
    "print(\"Bernoulli Naive Bayes Precision: \", bnb_precision)\n",
    "print(\"Bernoulli Naive Bayes Recall: \", bnb_recall)\n",
    "print(\"Bernoulli Naive Bayes F1 Score: \", bnb_f1,'\\n')\n",
    "\n",
    "print(\"Multinomial NB Performance\")\n",
    "print(\"Multinomial Naive Bayes Accuracy: \", mnb_accuracy)\n",
    "print(\"Multinomial Naive Bayes Precision: \", mnb_precision)\n",
    "print(\"Multinomial Naive Bayes Recall: \", mnb_recall)\n",
    "print(\"Multinomial Naive Bayes F1 Score: \", mnb_f1,'\\n')\n",
    "\n",
    "print(\"Gaussian NB Performance\")\n",
    "print(\"Gaussian Naive Bayes Accuracy: \", gnb_accuracy)\n",
    "print(\"Gaussian Naive Bayes Precision: \", gnb_precision)\n",
    "print(\"Gaussian Naive Bayes Recall: \", gnb_recall)\n",
    "print(\"Gaussian Naive Bayes F1 Score: \", gnb_f1,'\\n')"
   ]
  },
  {
   "cell_type": "markdown",
   "id": "c784b43d-d1e6-41cc-99d3-a0589e68ea85",
   "metadata": {},
   "source": [
    "### Discussion"
   ]
  },
  {
   "cell_type": "code",
   "execution_count": null,
   "id": "54e99475-c983-4a4b-bd93-41a3225ff2a7",
   "metadata": {},
   "outputs": [],
   "source": [
    "Based on the results obtained, Bernoulli Naive Bayes performed the best, with an accuracy of 0.882, precision of 0.893, recall of 0.815 and an F1 score of 0.852.\n",
    "It was followed by Gaussian Naive Bayes, with an accuracy of 0.823, precision of 0.717, recall of 0.949 and an F1 score of 0.817. \n",
    "Multinomial Naive Bayes had the lowest performance with an accuracy of 0.785, precision of 0.769, recall of 0.694 and an F1 score of 0.729.\n",
    "\n",
    "The reason Bernoulli Naive Bayes performed the best could be because the data used had binary features, and Bernoulli Naive Bayes works well with binary data as it models the occurrence or non-occurrence of features in the data. \n",
    "Gaussian Naive Bayes, on the other hand, works well with continuous data, and it performed well in this case because the features in the data had continuous values.\n",
    "\n",
    "One of the limitations of Naive Bayes that was observed in this case is the assumption of independence between the features, which may not always hold true in real-world scenarios.\n",
    "Additionally, Naive Bayes may not perform well in cases where there are rare events or when there is insufficient training data.\n",
    "\n",
    "Overall, the choice of the Naive Bayes variant to use would depend on the nature of the data being analyzed, \n",
    "and it is important to evaluate the performance of each variant to determine which one is most suitable for the task at hand."
   ]
  },
  {
   "cell_type": "code",
   "execution_count": null,
   "id": "928936ab-790b-4b72-b5b9-acb6194ff2ed",
   "metadata": {},
   "outputs": [],
   "source": [
    "#Conclusion\n",
    "In conclusion, the study evaluated the performance of three variants of Naive Bayes - Bernoulli, Multinomial, and Gaussian - on the Spambase dataset.\n",
    "The results showed that Bernoulli Naive Bayes performed the best, followed by Gaussian Naive Bayes, while Multinomial Naive Bayes had the lowest performance. \n",
    "The choice of the Naive Bayes variant to use would depend on the nature of the data being analyzed.\n",
    "\n",
    "For future work, more advanced machine learning algorithms could be evaluated and compared to Naive Bayes to determine which one performs the best on the Spambase dataset. \n",
    "Additionally, feature selection techniques could be applied to reduce the dimensionality of the data and improve the performance of the models.\n",
    "Finally, the study could be extended to evaluate the performance of Naive Bayes on other datasets with different types of features and different distributions."
   ]
  }
 ],
 "metadata": {
  "kernelspec": {
   "display_name": "Python 3 (ipykernel)",
   "language": "python",
   "name": "python3"
  },
  "language_info": {
   "codemirror_mode": {
    "name": "ipython",
    "version": 3
   },
   "file_extension": ".py",
   "mimetype": "text/x-python",
   "name": "python",
   "nbconvert_exporter": "python",
   "pygments_lexer": "ipython3",
   "version": "3.10.8"
  }
 },
 "nbformat": 4,
 "nbformat_minor": 5
}
